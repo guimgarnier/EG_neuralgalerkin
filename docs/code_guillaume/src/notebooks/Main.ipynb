{
 "cells": [
  {
   "cell_type": "code",
   "execution_count": 1,
   "id": "a226d3be-7522-4a20-b690-faa47892db9b",
   "metadata": {},
   "outputs": [],
   "source": [
    "import os\n",
    "import sys\n",
    "module_path = os.path.abspath(os.path.join('..'))\n",
    "if module_path not in sys.path:\n",
    "    sys.path.append(module_path)\n",
    "module_path = os.path.abspath(os.path.join('../..'))\n",
    "sys.path.append(module_path)\n",
    "\n",
    "import torch\n",
    "import torch.nn as nn\n",
    "import matplotlib.pyplot as plt\n",
    "import numpy as np\n",
    "\n",
    "from itertools import product\n",
    "import torch\n",
    "import torch.distributions as dist\n",
    "torch.manual_seed(0)\n",
    "\n",
    "from lib.neural_network import ShallowExp\n",
    "from lib.PDE import KdV,AllenCahn,AD\n",
    "from lib.measure import MetropolisHastingsSampler, monte_carlo_integration"
   ]
  },
  {
   "cell_type": "markdown",
   "id": "b10c3b09-6ca2-4dca-ab56-fa8d444b20f8",
   "metadata": {},
   "source": [
    "# Initialise the initial parameters $\\theta_0$"
   ]
  },
  {
   "cell_type": "code",
   "execution_count": 2,
   "id": "ea493c0c-5898-4031-9a18-c10d9c6d05ce",
   "metadata": {},
   "outputs": [],
   "source": [
    "def init_kdv(x):\n",
    "    part1 = (1.0 - np.sqrt(2)) \n",
    "    part2 = (np.exp(x) + 2 * np.exp(np.sqrt(2)*x + 2 * np.sqrt(2)) + ((1+np.sqrt(2))**2)*np.exp(np.sqrt(2)*x + x))\n",
    "    part3 = 3 * (np.exp(x) + np.exp(np.sqrt(2) * x + 2 * np.sqrt(2)) + np.exp(np.sqrt(2)*x + x) + 1 + 2*np.sqrt(2))\n",
    "    part4 = (np.exp(x) + np.sqrt(2) * np.exp(np.sqrt(2)*x + 2 * np.sqrt(2)) + (1+np.sqrt(2))*np.exp(np.sqrt(2)*x + x))**2\n",
    "    part5 = 3 * (np.exp(x) + np.exp(np.sqrt(2) * x + 2 * np.sqrt(2)) + np.exp(np.sqrt(2)*x + x) + 1 + 2*np.sqrt(2))**2\n",
    "    return (part1 * part2 / part3) - part1 * part4 / part5"
   ]
  },
  {
   "cell_type": "code",
   "execution_count": null,
   "id": "54b982da-f143-4d2d-81d5-2d14b21aad08",
   "metadata": {},
   "outputs": [],
   "source": []
  }
 ],
 "metadata": {
  "kernelspec": {
   "display_name": "Python 3 (ipykernel)",
   "language": "python",
   "name": "python3"
  },
  "language_info": {
   "codemirror_mode": {
    "name": "ipython",
    "version": 3
   },
   "file_extension": ".py",
   "mimetype": "text/x-python",
   "name": "python",
   "nbconvert_exporter": "python",
   "pygments_lexer": "ipython3",
   "version": "3.9.7"
  }
 },
 "nbformat": 4,
 "nbformat_minor": 5
}
