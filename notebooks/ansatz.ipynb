{
 "cells": [
  {
   "cell_type": "code",
   "execution_count": 1,
   "metadata": {},
   "outputs": [],
   "source": [
    "import os\n",
    "import sys\n",
    "\n",
    "module_path = os.path.abspath(os.path.join('..')+'/src')\n",
    "if module_path not in sys.path:\n",
    "    sys.path.append(module_path)"
   ]
  },
  {
   "cell_type": "markdown",
   "metadata": {},
   "source": [
    "# Ansatz\n",
    "\n",
    "In this file, we illustrate the use of the Class ansatz."
   ]
  },
  {
   "cell_type": "code",
   "execution_count": 2,
   "metadata": {},
   "outputs": [],
   "source": [
    "import torch\n",
    "from torch import nn\n",
    "import warnings\n",
    "import matplotlib.pyplot as plt\n",
    "\n",
    "import warnings\n",
    "import torch\n",
    "import torch as tc\n",
    "from torch.func import jacfwd, vmap, grad,jacrev\n",
    "\n",
    "from models.ansatz import Ansatz"
   ]
  },
  {
   "cell_type": "markdown",
   "metadata": {},
   "source": [
    "Use of the Ansatz"
   ]
  },
  {
   "cell_type": "code",
   "execution_count": 3,
   "metadata": {},
   "outputs": [
    {
     "name": "stdout",
     "output_type": "stream",
     "text": [
      "> Example of utilisation for the Class Anstatz\n",
      "epoch: 0 | loss:  tensor(24.8018, grad_fn=<MseLossBackward0>)\n",
      "epoch: 3000 | loss:  tensor(24.8018, grad_fn=<MseLossBackward0>)\n",
      " - Training is complete\n"
     ]
    },
    {
     "data": {
      "image/png": "[encoded data removed]",
      "text/plain": [
       "<Figure size 1500x700 with 1 Axes>"
      ]
     },
     "metadata": {},
     "output_type": "display_data"
    }
   ],
   "source": [
    "print(\"> Example of utilisation for the Class Anstatz\")\n",
    "    \n",
    "# Definition of the space domain and the fonction to approximate\n",
    "x_domain = [0.0, 1.0]; n_points_x = 1000\n",
    "mesh_x = torch.linspace(x_domain[0], x_domain[1], steps=n_points_x, requires_grad=True).unsqueeze(1)\n",
    "u0 = lambda x : (1-x)**2 * x**2\n",
    "y_true = u0(mesh_x).squeeze()\n",
    "   \n",
    "# Definition of the model\n",
    "d = 1\n",
    "m = 10\n",
    "model = Ansatz(d,m)\n",
    "    \n",
    "    # Training\n",
    "criterion=torch.nn.MSELoss()\n",
    "optimizer=torch.optim.Adam(model.parameters(),lr=1e-3)\n",
    "\n",
    "total_acc, total_loss=[], []\n",
    "for epoch in range(6000):\n",
    "    y_pred=model(mesh_x)\n",
    "    loss = criterion(y_pred,y_true)\n",
    "    if epoch%3000 == 0:\n",
    "        print('epoch:',epoch,'| loss: ', loss)\n",
    "    optimizer.zero_grad()\n",
    "    loss.backward(retain_graph=True) # back propagation\n",
    "    optimizer.step()\n",
    "print(' - Training is complete')\n",
    "    \n",
    "    # Visualisation\n",
    "y_train = model(mesh_x)\n",
    "fig = plt.figure(figsize=(15, 7))\n",
    "plt.plot(mesh_x.detach(), y_train.detach(), 'k', lw=3)\n",
    "plt.plot(mesh_x.detach(), y_true.detach(),'r:', lw=5)\n",
    "plt.grid()\n",
    "plt.show()\n"
   ]
  },
  {
   "cell_type": "code",
   "execution_count": 5,
   "metadata": {},
   "outputs": [
    {
     "data": {
      "text/plain": [
       "(tensor([ 9.7930e+00,  9.7890e+00,  9.7945e+00,  9.3119e+00,  9.9823e+00,\n",
       "          9.9230e+00,  9.6882e+00,  9.9575e+00,  9.5554e+00,  1.0000e+01,\n",
       "         -5.3794e-01, -3.1380e-01, -2.3990e-01, -7.2525e-01, -2.0797e-02,\n",
       "          6.0244e-02, -2.4030e-01, -4.6052e-02,  1.1817e+00, -1.2884e-05,\n",
       "         -1.3260e+00, -8.5683e-01, -5.1831e-01, -1.4826e+00, -1.3104e-01,\n",
       "         -3.4101e-01, -4.3117e-01, -3.3686e-01, -1.4514e+00, -1.9379e-03],\n",
       "        grad_fn=<ViewBackward0>),\n",
       " tensor([[ 9.3847e-01,  9.3367e-01,  9.3553e-01,  8.0017e-01,  9.9393e-01,\n",
       "           9.8670e-01,  9.0399e-01,  9.8699e-01,  9.7895e-01,  9.9999e-01,\n",
       "          -1.1252e-01, -1.9757e-01, -5.4908e-02, -6.0286e-01, -6.3797e-03,\n",
       "          -3.6981e-02, -5.2881e-02, -3.5736e-02, -1.4702e-01, -6.3428e-06,\n",
       "          -3.9001e-01, -2.6570e-01, -1.6077e-01, -4.1152e-01, -4.4894e-02,\n",
       "          -5.8925e-02, -1.3049e-01, -1.0287e-01, -7.1626e-02, -6.4603e-04],\n",
       "         [ 9.5189e-01,  9.5567e-01,  9.5057e-01,  8.6571e-01,  9.9561e-01,\n",
       "           9.9267e-01,  9.2571e-01,  9.9152e-01,  9.9279e-01,  9.9999e-01,\n",
       "          -1.0056e-01, -1.6437e-01, -4.8661e-02, -5.2458e-01, -5.4324e-03,\n",
       "          -2.7578e-02, -4.7356e-02, -2.8949e-02, -8.6955e-02, -5.2196e-06,\n",
       "          -3.0712e-01, -1.7968e-01, -1.2427e-01, -2.8800e-01, -3.2496e-02,\n",
       "          -3.2572e-02, -1.0220e-01, -6.7201e-02, -2.4706e-02, -4.3749e-04],\n",
       "         [ 9.6378e-01,  9.7349e-01,  9.6375e-01,  9.2075e-01,  9.9702e-01,\n",
       "           9.9689e-01,  9.4494e-01,  9.9510e-01,  9.9941e-01,  9.9999e-01,\n",
       "          -8.8076e-02, -1.2888e-01, -4.2106e-02, -4.2217e-01, -4.4806e-03,\n",
       "          -1.8027e-02, -4.1404e-02, -2.2078e-02, -2.4975e-02, -4.0964e-06,\n",
       "          -2.3270e-01, -1.0843e-01, -9.1776e-02, -1.7537e-01, -2.2075e-02,\n",
       "          -1.3859e-02, -7.6530e-02, -3.8946e-02, -2.0246e-03, -2.6946e-04],\n",
       "         [ 9.7406e-01,  9.8689e-01,  9.7498e-01,  9.6271e-01,  9.9816e-01,\n",
       "           9.9933e-01,  9.6151e-01,  9.9770e-01,  9.9867e-01,  1.0000e+00,\n",
       "          -7.5132e-02, -9.1559e-02, -3.5284e-02, -2.9945e-01, -3.5252e-03,\n",
       "          -8.3798e-03, -3.5072e-02, -1.5142e-02,  3.7557e-02, -2.9732e-06,\n",
       "          -1.6754e-01, -5.3987e-02, -6.3703e-02, -8.4390e-02, -1.3649e-02,\n",
       "          -2.9873e-03, -5.3965e-02, -1.8272e-02, -4.5816e-03, -1.4195e-04],\n",
       "         [ 9.8269e-01,  9.9568e-01,  9.8420e-01,  9.8954e-01,  9.9902e-01,\n",
       "           9.9998e-01,  9.7527e-01,  9.9933e-01,  9.9057e-01,  1.0000e+00,\n",
       "          -6.1790e-02, -5.2935e-02, -2.8235e-02, -1.6188e-01, -2.5668e-03,\n",
       "           1.3127e-03, -2.8414e-02, -8.1619e-03,  9.9259e-02, -1.8500e-06,\n",
       "          -1.1233e-01, -1.7887e-02, -4.0411e-02, -2.3994e-02, -7.2301e-03,\n",
       "          -7.3260e-05, -3.4923e-02, -5.3001e-03, -3.2264e-02, -5.4957e-05],\n",
       "         [ 9.8961e-01,  9.9972e-01,  9.9135e-01,  9.9990e-01,  9.9962e-01,\n",
       "           9.9884e-01,  9.8609e-01,  9.9999e-01,  9.7531e-01,  1.0000e+00,\n",
       "          -4.8120e-02, -1.3551e-02, -2.1004e-02, -1.6136e-02, -1.6064e-03,\n",
       "           1.0998e-02, -2.1491e-02, -1.1576e-03,  1.5878e-01, -7.2678e-07,\n",
       "          -6.7646e-02, -1.1675e-03, -2.2202e-02, -2.3591e-04, -2.8300e-03,\n",
       "          -5.1482e-03, -1.9759e-02, -1.0654e-04, -8.3853e-02, -8.4816e-06],\n",
       "         [ 9.9479e-01,  9.9896e-01,  9.9638e-01,  9.9325e-01,  9.9994e-01,\n",
       "           9.9592e-01,  9.9386e-01,  9.9966e-01,  9.5320e-01,  1.0000e+00,\n",
       "          -3.4192e-02,  2.6028e-02, -1.3637e-02,  1.3043e-01, -6.4458e-04,\n",
       "           2.0624e-02, -1.4365e-02,  5.8502e-03,  2.1485e-01,  3.9645e-07,\n",
       "          -3.3977e-02, -4.3100e-03, -9.3113e-03, -1.5518e-02, -4.5554e-04,\n",
       "          -1.8158e-02, -8.7585e-03, -2.7220e-03, -1.5709e-01, -2.5238e-06],\n",
       "         [ 9.9821e-01,  9.9341e-01,  9.9926e-01,  9.6994e-01,  9.9999e-01,\n",
       "           9.9122e-01,  9.9851e-01,  9.9835e-01,  9.2474e-01,  1.0000e+00,\n",
       "          -2.0082e-02,  6.5232e-02, -6.1810e-03,  2.7039e-01,  3.1772e-04,\n",
       "           3.0140e-02, -7.1024e-03,  1.2841e-02,  2.6632e-01,  1.5197e-06,\n",
       "          -1.1680e-02, -2.7224e-02, -1.9074e-03, -6.8295e-02, -1.1067e-04,\n",
       "          -3.8962e-02, -2.1311e-03, -1.3131e-02, -2.4880e-01, -3.7084e-05],\n",
       "         [ 9.9985e-01,  9.8316e-01,  9.9997e-01,  9.3114e-01,  9.9976e-01,\n",
       "           9.8478e-01,  1.0000e+00,  9.9606e-01,  8.9052e-01,  1.0000e+00,\n",
       "          -5.8629e-03,  1.0350e-01,  1.3153e-03,  3.9688e-01,  1.2798e-03,\n",
       "           3.9495e-02,  2.2766e-04,  1.9794e-02,  3.1221e-01,  2.6429e-06,\n",
       "          -9.9390e-04, -6.9251e-02, -8.6313e-05, -1.5326e-01, -1.7960e-03,\n",
       "          -6.7338e-02, -2.1864e-06, -3.1273e-02, -3.5506e-01, -1.1216e-04],\n",
       "         [ 9.9969e-01,  9.6834e-01,  9.9850e-01,  8.7875e-01,  9.9926e-01,\n",
       "           9.7663e-01,  9.9831e-01,  9.9281e-01,  8.5124e-01,  9.9999e-01,\n",
       "           8.3874e-03,  1.4030e-01,  8.8030e-03,  5.0413e-01,  2.2407e-03,\n",
       "           4.8639e-02,  7.5555e-03,  2.6688e-02,  3.5172e-01,  3.7661e-06,\n",
       "          -2.0345e-03, -1.2919e-01, -3.8719e-03, -2.6203e-01, -5.5086e-03,\n",
       "          -1.0298e-01, -2.4122e-03, -5.7040e-02, -4.7142e-01, -2.2776e-04]],\n",
       "        grad_fn=<ViewBackward0>))"
      ]
     },
     "execution_count": 5,
     "metadata": {},
     "output_type": "execute_result"
    }
   ],
   "source": [
    "torch.manual_seed(42)\n",
    "theta = tc.rand(3*m,requires_grad=True)\n",
    "theta1 = tc.rand(3*m,requires_grad=True)\n",
    "A = Ansatz(d,m)\n",
    "mesh_x = tc.linspace(0,1,10)\n",
    "a = out(theta,mesh_x)\n",
    "def test(theta, x):\n",
    "    model = Ansatz(d,m,theta)(x)\n",
    "    return model\n",
    "\n",
    "a2 = jacrev(test,argnums=0)(theta,mesh_x)\n",
    "a,a2"
   ]
  },
  {
   "cell_type": "code",
   "execution_count": null,
   "metadata": {},
   "outputs": [],
   "source": []
  }
 ],
 "metadata": {
  "kernelspec": {
   "display_name": "EG_neuralgalerkin",
   "language": "python",
   "name": "python3"
  },
  "language_info": {
   "codemirror_mode": {
    "name": "ipython",
    "version": 3
   },
   "file_extension": ".py",
   "mimetype": "text/x-python",
   "name": "python",
   "nbconvert_exporter": "python",
   "pygments_lexer": "ipython3",
   "version": "3.9.13"
  }
 },
 "nbformat": 4,
 "nbformat_minor": 2
}
