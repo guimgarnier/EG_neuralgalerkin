{
 "cells": [
  {
   "cell_type": "code",
   "execution_count": 24,
   "metadata": {},
   "outputs": [],
   "source": [
    "import os\n",
    "import sys\n",
    "\n",
    "module_path = os.path.abspath(os.path.join('..')+'/src')\n",
    "if module_path not in sys.path:\n",
    "    sys.path.append(module_path)"
   ]
  },
  {
   "cell_type": "markdown",
   "metadata": {},
   "source": [
    "# Ansatz\n",
    "\n",
    "In this file, we illustrate the use of the Class ansatz."
   ]
  },
  {
   "cell_type": "code",
   "execution_count": 88,
   "metadata": {},
   "outputs": [],
   "source": [
    "import torch\n",
    "from torch import nn\n",
    "import warnings\n",
    "import config\n",
    "\n",
    "from math import sqrt\n",
    "\n",
    "import matplotlib.pyplot as plt"
   ]
  },
  {
   "cell_type": "code",
   "execution_count": 89,
   "metadata": {},
   "outputs": [],
   "source": [
    "import warnings\n",
    "import torch\n",
    "import torch as tc\n",
    "from torch.func import jacfwd, vmap, grad,jacrev\n",
    "\n",
    "class Ansatz(tc.nn.Module):\n",
    "    \n",
    "    def __init__(self, d, m, theta=None, kind='gaussian'):\n",
    "        \n",
    "        super().__init__()\n",
    "        self.m = m       # model parameter \n",
    "        self.d = d       # dimension of b (same as x)\n",
    "        \n",
    "        # size of theta according to the the model\n",
    "        if kind == 'gaussian':\n",
    "            self.s = 2*m+m \n",
    "        else:\n",
    "            self.s = 2*m+d*m\n",
    "            warnings.warn(\"The type of network has not The theta parameter has not been initialized\") \n",
    "        \n",
    "        # Dictionary of models \n",
    "        methods = {\n",
    "            'gaussian'        : self.gaussian_x,   # Eq. (16)\n",
    "        }\n",
    "\n",
    "        self.Theta = tc.rand(self.s,requires_grad=True) #if theta is None else theta\n",
    "        self.theta = tc.nn.Parameter(tc.rand(self.s) if theta is None else theta)\n",
    "        \n",
    "        self.eval_x    = methods[kind]\n",
    "        self.forward   = vmap(self.eval_x)\n",
    "        \n",
    "    def splitter_gaussian(self):\n",
    "        c = self.theta[:self.m]\n",
    "        b = self.theta[self.m: self.m+self.m*self.d ].reshape(self.m,self.d)\n",
    "        w = self.theta[self.m+self.m*self.d:]\n",
    "        return (c,b,w)\n",
    "    \n",
    "    def gaussian_x(self, x: tc.Tensor):\n",
    "               \n",
    "       # Input :  a SCALAR x of shape (0,)\n",
    "       # Output : a SCALAR\n",
    "        \n",
    "        c, b, w = self.splitter_gaussian()\n",
    "        return tc.sum(c*tc.exp(-w**2 *(x-b).T**2))  \n",
    "\n",
    "\n",
    "    def forward(self, x):\n",
    "        self.Theta = self.parameters()\n",
    "        c,b,w = self.splitter_gaussian()\n",
    "        #vect=lambda x: (c*tc.exp(-w**2*(x-b)**2)).sum()\n",
    "        #return (c*tc.exp(-w**2*(x-b)**2)).sum()\n",
    "        return tc.sum(c*tc.exp(-w**2*(x-b).T**2))\n",
    "    \n",
    "    def __call__(self, x):\n",
    "        return self.forward(x)\n",
    "        "
   ]
  },
  {
   "cell_type": "markdown",
   "metadata": {},
   "source": [
    "We define the Anstazt"
   ]
  },
  {
   "cell_type": "code",
   "execution_count": 122,
   "metadata": {},
   "outputs": [
    {
     "name": "stdout",
     "output_type": "stream",
     "text": [
      "tensor([[0.8801],\n",
      "        [0.6379],\n",
      "        [0.0542],\n",
      "        [0.1879],\n",
      "        [0.0124],\n",
      "        [0.7967],\n",
      "        [0.0512],\n",
      "        [0.7548],\n",
      "        [0.6241],\n",
      "        [0.1126]])\n",
      "tensor([5.0290, 5.4351, 5.4623, 5.5984, 5.4022, 5.1868, 5.4582, 5.2597, 5.4529,\n",
      "        5.5325], grad_fn=<SumBackward1>)\n"
     ]
    }
   ],
   "source": [
    "d = 1\n",
    "m = 10\n",
    "model = Ansatz(d,m)\n",
    "x_train = torch.rand(10, 1)\n",
    "print(x_train)\n",
    "print(model(x_train))"
   ]
  },
  {
   "cell_type": "code",
   "execution_count": 123,
   "metadata": {},
   "outputs": [
    {
     "name": "stdout",
     "output_type": "stream",
     "text": [
      "tensor([[0.0000],\n",
      "        [0.1111],\n",
      "        [0.2222],\n",
      "        [0.3333],\n",
      "        [0.4444],\n",
      "        [0.5556],\n",
      "        [0.6667],\n",
      "        [0.7778],\n",
      "        [0.8889],\n",
      "        [1.0000]], grad_fn=<ReshapeAliasBackward0>)\n",
      "tensor([5.3829, 5.5309, 5.6193, 5.6472, 5.6163, 5.5306, 5.3961, 5.2203, 5.0115,\n",
      "        4.7778], grad_fn=<SumBackward1>)\n"
     ]
    }
   ],
   "source": [
    "x_domain = [0.0, 1.0]; n_points_x = 10\n",
    "mesh_x = torch.linspace(x_domain[0], x_domain[1], steps=n_points_x, requires_grad=True).reshape(n_points_x,1)\n",
    "print(mesh_x)\n",
    "\n",
    "print(model(mesh_x))"
   ]
  },
  {
   "cell_type": "code",
   "execution_count": 124,
   "metadata": {},
   "outputs": [
    {
     "data": {
      "text/plain": [
       "[<matplotlib.lines.Line2D at 0x7f6c8e33bfd0>]"
      ]
     },
     "execution_count": 124,
     "metadata": {},
     "output_type": "execute_result"
    },
    {
     "data": {
      "image/png": "[encoded data removed]",
      "text/plain": [
       "<Figure size 432x288 with 1 Axes>"
      ]
     },
     "metadata": {
      "needs_background": "light"
     },
     "output_type": "display_data"
    }
   ],
   "source": [
    "mesh_x.reshape(n_points_x,1).reshape(-1)\n",
    "\n",
    "y_train = model(mesh_x)\n",
    "\n",
    "plt.plot(mesh_x.detach(), y_train.detach())\n"
   ]
  },
  {
   "cell_type": "code",
   "execution_count": 125,
   "metadata": {},
   "outputs": [
    {
     "name": "stdout",
     "output_type": "stream",
     "text": [
      "torch.Size([10])\n",
      "torch.Size([10])\n"
     ]
    },
    {
     "data": {
      "text/plain": [
       "[<matplotlib.lines.Line2D at 0x7f6c979bfbd0>]"
      ]
     },
     "execution_count": 125,
     "metadata": {},
     "output_type": "execute_result"
    },
    {
     "data": {
      "image/png": "[encoded data removed]",
      "text/plain": [
       "<Figure size 432x288 with 1 Axes>"
      ]
     },
     "metadata": {
      "needs_background": "light"
     },
     "output_type": "display_data"
    }
   ],
   "source": [
    "def u0(x):\n",
    "    return x**2\n",
    "  \n",
    "y_true = u0(mesh_x).squeeze()\n",
    "print(y_true.shape)\n",
    "print(y_train.shape)\n",
    "\n",
    "plt.plot(mesh_x.detach(), y_train.detach())\n",
    "  \n",
    "  "
   ]
  },
  {
   "cell_type": "code",
   "execution_count": 127,
   "metadata": {},
   "outputs": [
    {
     "name": "stdout",
     "output_type": "stream",
     "text": [
      "torch.Size([10])\n",
      "torch.Size([10])\n",
      "loss tensor(24.2357, grad_fn=<MseLossBackward0>)\n"
     ]
    },
    {
     "ename": "RuntimeError",
     "evalue": "Trying to backward through the graph a second time (or directly access saved tensors after they have already been freed). Saved intermediate values of the graph are freed when you call .backward() or autograd.grad(). Specify retain_graph=True if you need to backward through the graph a second time or if you need to access saved tensors after calling backward.",
     "output_type": "error",
     "traceback": [
      "\u001b[0;31m---------------------------------------------------------------------------\u001b[0m",
      "\u001b[0;31mRuntimeError\u001b[0m                              Traceback (most recent call last)",
      "Cell \u001b[0;32mIn[127], line 13\u001b[0m\n\u001b[1;32m     11\u001b[0m \u001b[38;5;28;01mif\u001b[39;00m epoch\u001b[38;5;241m%\u001b[39m\u001b[38;5;241m500\u001b[39m \u001b[38;5;241m==\u001b[39m \u001b[38;5;241m0\u001b[39m:\n\u001b[1;32m     12\u001b[0m     \u001b[38;5;28mprint\u001b[39m(\u001b[38;5;124m'\u001b[39m\u001b[38;5;124mloss\u001b[39m\u001b[38;5;124m'\u001b[39m, loss)      \n\u001b[0;32m---> 13\u001b[0m loss\u001b[38;5;241m.\u001b[39mbackward(retain_graph\u001b[38;5;241m=\u001b[39m\u001b[38;5;28;01mTrue\u001b[39;00m) \u001b[38;5;66;03m# back propagation\u001b[39;00m\n\u001b[1;32m     14\u001b[0m optimizer\u001b[38;5;241m.\u001b[39mstep()\n\u001b[1;32m     15\u001b[0m optimizer\u001b[38;5;241m.\u001b[39mzero_grad()\n",
      "File \u001b[0;32m~/anaconda3/envs/inverse-neural-galerkin/lib/python3.11/site-packages/torch/_tensor.py:487\u001b[0m, in \u001b[0;36mTensor.backward\u001b[0;34m(self, gradient, retain_graph, create_graph, inputs)\u001b[0m\n\u001b[1;32m    477\u001b[0m \u001b[38;5;28;01mif\u001b[39;00m has_torch_function_unary(\u001b[38;5;28mself\u001b[39m):\n\u001b[1;32m    478\u001b[0m     \u001b[38;5;28;01mreturn\u001b[39;00m handle_torch_function(\n\u001b[1;32m    479\u001b[0m         Tensor\u001b[38;5;241m.\u001b[39mbackward,\n\u001b[1;32m    480\u001b[0m         (\u001b[38;5;28mself\u001b[39m,),\n\u001b[0;32m   (...)\u001b[0m\n\u001b[1;32m    485\u001b[0m         inputs\u001b[38;5;241m=\u001b[39minputs,\n\u001b[1;32m    486\u001b[0m     )\n\u001b[0;32m--> 487\u001b[0m torch\u001b[38;5;241m.\u001b[39mautograd\u001b[38;5;241m.\u001b[39mbackward(\n\u001b[1;32m    488\u001b[0m     \u001b[38;5;28mself\u001b[39m, gradient, retain_graph, create_graph, inputs\u001b[38;5;241m=\u001b[39minputs\n\u001b[1;32m    489\u001b[0m )\n",
      "File \u001b[0;32m~/anaconda3/envs/inverse-neural-galerkin/lib/python3.11/site-packages/torch/autograd/__init__.py:200\u001b[0m, in \u001b[0;36mbackward\u001b[0;34m(tensors, grad_tensors, retain_graph, create_graph, grad_variables, inputs)\u001b[0m\n\u001b[1;32m    195\u001b[0m     retain_graph \u001b[38;5;241m=\u001b[39m create_graph\n\u001b[1;32m    197\u001b[0m \u001b[38;5;66;03m# The reason we repeat same the comment below is that\u001b[39;00m\n\u001b[1;32m    198\u001b[0m \u001b[38;5;66;03m# some Python versions print out the first line of a multi-line function\u001b[39;00m\n\u001b[1;32m    199\u001b[0m \u001b[38;5;66;03m# calls in the traceback and some print out the last line\u001b[39;00m\n\u001b[0;32m--> 200\u001b[0m Variable\u001b[38;5;241m.\u001b[39m_execution_engine\u001b[38;5;241m.\u001b[39mrun_backward(  \u001b[38;5;66;03m# Calls into the C++ engine to run the backward pass\u001b[39;00m\n\u001b[1;32m    201\u001b[0m     tensors, grad_tensors_, retain_graph, create_graph, inputs,\n\u001b[1;32m    202\u001b[0m     allow_unreachable\u001b[38;5;241m=\u001b[39m\u001b[38;5;28;01mTrue\u001b[39;00m, accumulate_grad\u001b[38;5;241m=\u001b[39m\u001b[38;5;28;01mTrue\u001b[39;00m)\n",
      "\u001b[0;31mRuntimeError\u001b[0m: Trying to backward through the graph a second time (or directly access saved tensors after they have already been freed). Saved intermediate values of the graph are freed when you call .backward() or autograd.grad(). Specify retain_graph=True if you need to backward through the graph a second time or if you need to access saved tensors after calling backward."
     ]
    }
   ],
   "source": [
    "# Optimization\n",
    "criterion=torch.nn.MSELoss()\n",
    "optimizer=torch.optim.Adam(model.parameters(),lr=0.01)\n",
    "\n",
    "total_acc, total_loss=[], []\n",
    "for epoch in range(1000):\n",
    "    y_pred=model(x_train)\n",
    "    print(y_pred.shape)\n",
    "    print(y_true.shape)\n",
    "    loss = criterion(y_pred,y_true)\n",
    "    if epoch%500 == 0:\n",
    "        print('loss', loss)\n",
    "    optimizer.zero_grad()\n",
    "    loss.backward(retain_graph=True) # back propagation\n",
    "    optimizer.step()\n",
    "    optimizer.zero_grad()\n",
    "print(' - Training is complete')\n",
    "\n",
    "\n",
    "\n",
    "    "
   ]
  },
  {
   "cell_type": "code",
   "execution_count": null,
   "metadata": {},
   "outputs": [],
   "source": []
  },
  {
   "cell_type": "code",
   "execution_count": null,
   "metadata": {},
   "outputs": [],
   "source": []
  }
 ],
 "metadata": {
  "kernelspec": {
   "display_name": "EG_neuralgalerkin",
   "language": "python",
   "name": "python3"
  },
  "language_info": {
   "codemirror_mode": {
    "name": "ipython",
    "version": 3
   },
   "file_extension": ".py",
   "mimetype": "text/x-python",
   "name": "python",
   "nbconvert_exporter": "python",
   "pygments_lexer": "ipython3",
   "version": "3.11.4"
  }
 },
 "nbformat": 4,
 "nbformat_minor": 2
}
