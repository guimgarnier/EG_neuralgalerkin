{
 "cells": [
  {
   "cell_type": "code",
   "execution_count": 8,
   "id": "5b36e4ae-7cb3-487f-b889-a5d38f3e9c50",
   "metadata": {},
   "outputs": [
    {
     "name": "stdout",
     "output_type": "stream",
     "text": [
      "['/home/ggarnier/research/inverse-neural-galerkin/inverse-neural-galerkin/src/notebooks', '/home/ggarnier/anaconda3/envs/inverse-neural-galerkin/lib/python311.zip', '/home/ggarnier/anaconda3/envs/inverse-neural-galerkin/lib/python3.11', '/home/ggarnier/anaconda3/envs/inverse-neural-galerkin/lib/python3.11/lib-dynload', '', '/home/ggarnier/anaconda3/envs/inverse-neural-galerkin/lib/python3.11/site-packages', '/home/ggarnier/research/inverse-neural-galerkin/inverse-neural-galerkin/src', '/home/ggarnier/research/inverse-neural-galerkin/inverse-neural-galerkin', '/home/ggarnier/research/inverse-neural-galerkin/inverse-neural-galerkin', '/home/ggarnier/research/inverse-neural-galerkin/inverse-neural-galerkin', '/home/ggarnier/research/inverse-neural-galerkin/inverse-neural-galerkin', '/home/ggarnier/research/inverse-neural-galerkin/inverse-neural-galerkin']\n"
     ]
    },
    {
     "ename": "ModuleNotFoundError",
     "evalue": "No module named 'ode'",
     "output_type": "error",
     "traceback": [
      "\u001b[0;31m---------------------------------------------------------------------------\u001b[0m",
      "\u001b[0;31mModuleNotFoundError\u001b[0m                       Traceback (most recent call last)",
      "Cell \u001b[0;32mIn[8], line 25\u001b[0m\n\u001b[1;32m     23\u001b[0m \u001b[39mfrom\u001b[39;00m \u001b[39mlib\u001b[39;00m\u001b[39m.\u001b[39;00m\u001b[39mPDE\u001b[39;00m \u001b[39mimport\u001b[39;00m KdV\n\u001b[1;32m     24\u001b[0m \u001b[39mfrom\u001b[39;00m \u001b[39mlib\u001b[39;00m\u001b[39m.\u001b[39;00m\u001b[39mmeasure\u001b[39;00m \u001b[39mimport\u001b[39;00m MetropolisHastingsSampler\n\u001b[0;32m---> 25\u001b[0m \u001b[39mfrom\u001b[39;00m \u001b[39mlib\u001b[39;00m\u001b[39m.\u001b[39;00m\u001b[39mNeuralGalScheme\u001b[39;00m \u001b[39mimport\u001b[39;00m NeurGalScheme\n",
      "File \u001b[0;32m~/research/inverse-neural-galerkin/inverse-neural-galerkin/src/lib/NeuralGalScheme.py:1\u001b[0m\n\u001b[0;32m----> 1\u001b[0m \u001b[39mfrom\u001b[39;00m \u001b[39mode\u001b[39;00m \u001b[39mimport\u001b[39;00m Ode\n\u001b[1;32m      2\u001b[0m \u001b[39m#from model import Model\u001b[39;00m\n\u001b[1;32m      3\u001b[0m \u001b[39mfrom\u001b[39;00m \u001b[39mModel\u001b[39;00m \u001b[39mimport\u001b[39;00m Model\n",
      "\u001b[0;31mModuleNotFoundError\u001b[0m: No module named 'ode'"
     ]
    }
   ],
   "source": [
    "import os\n",
    "import sys\n",
    "module_path = os.path.abspath(os.path.join('..'))\n",
    "if module_path not in sys.path:\n",
    "    sys.path.append(module_path)\n",
    "module_path = os.path.abspath(os.path.join('../..'))\n",
    "sys.path.append(module_path)\n",
    "print(sys.path)\n",
    "\n",
    "import time\n",
    "\n",
    "import torch\n",
    "import torch.nn as nn\n",
    "import matplotlib.pyplot as plt\n",
    "import numpy as np\n",
    "\n",
    "from itertools import product\n",
    "import torch\n",
    "import torch.distributions as dist\n",
    "torch.manual_seed(0)\n",
    "\n",
    "from lib.neural_network import ShallowExp\n",
    "from lib.PDE import KdV\n",
    "from lib.measure import MetropolisHastingsSampler\n",
    "#from lib.PDEmerge import Problem, ParameterNN, estimF, estimM, targetDistribution, gradNN"
   ]
  },
  {
   "cell_type": "code",
   "execution_count": 5,
   "id": "fd5e6fec-e7d2-43ba-afd4-68fe0322bd13",
   "metadata": {},
   "outputs": [
    {
     "data": {
      "text/plain": [
       "'2.0.1'"
      ]
     },
     "execution_count": 5,
     "metadata": {},
     "output_type": "execute_result"
    }
   ],
   "source": [
    "torch.__version__"
   ]
  },
  {
   "cell_type": "markdown",
   "id": "b22aeb28-bcc9-40d0-95aa-f3f3e91b8e7c",
   "metadata": {},
   "source": [
    "# Merge PDE & NN"
   ]
  },
  {
   "cell_type": "code",
   "execution_count": 4,
   "id": "e2b9f9d8-be10-41ad-b4c5-b3e91f99ced5",
   "metadata": {},
   "outputs": [],
   "source": [
    "class Problem:\n",
    "    def __init__(self, name, initial_condition):\n",
    "        self.name = name\n",
    "        self.initial_condition = initial_condition\n",
    "    def evaluate(self, t, x, f):\n",
    "        if name=='KdV':\n",
    "            KDV=KdV(initial_condition)\n",
    "        else:\n",
    "            raise Exception(\"The problem name has not been found in the database\")\n",
    "\n",
    "class ParameterNN:\n",
    "    \"\"\"\n",
    "    Code a class to define a Parameter theta. \n",
    "    \"\"\"\n",
    "    \n",
    "    def __init__(self, w, b, c):\n",
    "        self.w = w\n",
    "        self.b = b\n",
    "        self.c = c\n",
    "      \n",
    "    \n",
    "def kdv(xspace, model):\n",
    "    funct=torch.zeros(len(xspace))\n",
    "    iter = 0\n",
    "    for x in xspace:\n",
    "        x = x.unsqueeze(1)\n",
    "        x.requires_grad = True\n",
    "        u = model(x)\n",
    "\n",
    "        u_x = torch.autograd.grad(u,x, retain_graph=True, create_graph=True)\n",
    "        u_xx = torch.autograd.grad(u_x[0],x, retain_graph=True, create_graph=True)\n",
    "        u_xxx = torch.autograd.grad(u_xx[0],x)\n",
    "        aux = - u_xxx[0] + 6 * u_x[0] * u.unsqueeze(1)\n",
    "        funct[iter] = aux[0]\n",
    "        iter = iter + 1\n",
    "    return funct\n",
    "\n",
    "class estimF:\n",
    "    \"\"\"\n",
    "    Compute the Integral F by the Monte Carlo methods\n",
    "    \"\"\"\n",
    "    def __init__(self, d, m, NN, f, samples):\n",
    "        self.NN = NN\n",
    "        self.f = f\n",
    "        self.samples = samples\n",
    "        self.d = d\n",
    "        self.m = m\n",
    "\n",
    "    def __call__(self, t, theta):\n",
    "        self.NN = ShallowExp(self.d, self.m, theta)\n",
    "        # Compute every U(theta, xi) and return tensor([[value1 at x1], [value2 at x2], ...])\n",
    "        y_pred = self.NN(self.samples)\n",
    "        \n",
    "        # Compute every gradU(theta,xi)\n",
    "        gradU = gradNN(self.NN)\n",
    "        result_grad = torch.zeros(self.samples.size()[0], 2 * m + d * m)\n",
    "        result_grad= gradU.return_grad(self.samples)\n",
    "        \n",
    "        result_f = self.f(self.samples, self.NN)\n",
    "        result_f = result_f.unsqueeze(1)  \n",
    "    \n",
    "        return torch.mean(result_grad * result_f, dim=0)\n",
    "    \n",
    "class estimM:\n",
    "    \"\"\"\n",
    "    Compute the Integral M by the Monte Carlo methods\n",
    "    \"\"\"\n",
    "    def __init__(self, d, m, samples):\n",
    "        self.samples = samples\n",
    "        self.d = d\n",
    "        self.m = m\n",
    "\n",
    "    def __call__(self, theta):\n",
    "        NN = ShallowExp(self.d, self.m, theta)\n",
    "        \n",
    "        # Compute every U(theta, xi) and return tensor([[value1 at x1], [value2 at x2], ...])\n",
    "        y_pred = NN(self.samples)\n",
    "        \n",
    "        # Compute every gradU(theta,xi)\n",
    "        gradU = gradNN(NN)\n",
    "        result_grad = torch.zeros(self.samples.size()[0], 2 * m + d * m)\n",
    "        result_grad= gradU.return_grad(self.samples)\n",
    "        \n",
    "        tensorproduct = torch.zeros(self.samples.size()[0], 2 * m + d * m, 2 * m + d * m)\n",
    "        for iter in range(0, self.samples.size()[0]):\n",
    "            tensorproduct[iter] = torch.outer(result_grad[iter], result_grad[iter])    \n",
    "         \n",
    "        return torch.mean(tensorproduct, dim=0)\n",
    "    \n",
    "class targetDistribution:\n",
    "    \"\"\"\n",
    "    Define the distribution we use to make our integration. \n",
    "    \"\"\"\n",
    "    def __init__(self, NN):\n",
    "        self.NN = NN\n",
    "    def value(self, x):\n",
    "        return self.NN(x)\n",
    "    \n",
    "# class gradNN:\n",
    "#     def __init__(self, NN):\n",
    "#         self.NN = NN\n",
    "#     def return_grad(self, x):        \n",
    "#         y_pred = self.NN(x)\n",
    "#         d = self.NN.d\n",
    "#         m = self.NN.m\n",
    "#         result_grad = torch.zeros(y_pred.size()[0], 2 * m + d * m)\n",
    "#         for iter in range(y_pred.size()[0]):\n",
    "#             grad_theta = torch.autograd.grad(y_pred[iter], (self.NN.theta), retain_graph=True)\n",
    "#             result_grad[iter] = grad_theta[0]\n",
    "#         return result_grad\n",
    "    \n",
    "class gradNN:\n",
    "    def __init__(self, NN):\n",
    "        self.NN = NN\n",
    "    def return_grad(self, x):        \n",
    "        y_pred = self.NN(x)\n",
    "        print('TEST', y_pred.size())\n",
    "\n",
    "        d = self.NN.d\n",
    "        m = self.NN.m\n",
    "        result_grad = torch.zeros(y_pred.size()[0], 2 * m + d * m)\n",
    "\n",
    "        def myfunct(x):\n",
    "            return torch.autograd.grad(x, (self.NN.theta), retain_graph=True)\n",
    "        for iter in range(y_pred.size()[0]):\n",
    "            grad_theta = myfunct(y_pred[iter])\n",
    "            result_grad[iter] = grad_theta[0]\n",
    "        cms = list(map(myfunct, y_pred))\n",
    "        print(cms)\n",
    "        \n",
    "        raise ValueError('A very specific bad thing happened.')\n",
    "        return result_grad\n",
    "        "
   ]
  },
  {
   "cell_type": "code",
   "execution_count": 5,
   "id": "5686af74-98c9-40db-a30c-a449100a7660",
   "metadata": {},
   "outputs": [
    {
     "name": "stderr",
     "output_type": "stream",
     "text": [
      "/home/ggarnier/Documents/project/inverse-neural-galerkin/src/lib/neural_network.py:9: UserWarning: The neural network has been initiated with random theta\n",
      "  warnings.warn(\"The neural network has been initiated with random theta\")\n"
     ]
    },
    {
     "name": "stdout",
     "output_type": "stream",
     "text": [
      "tensor([0.5169, 0.3770, 0.2345, 0.0444, 0.9183, 0.1964, 0.5672, 0.9005, 0.4370,\n",
      "        0.1723, 0.0163, 0.5831, 0.2491, 0.5365, 0.6597, 0.3583, 0.8390, 0.4349,\n",
      "        0.3005, 0.1694, 0.6517, 0.1909, 0.6051, 0.4369, 0.8436, 0.2549, 0.2537,\n",
      "        0.4354, 0.1946, 0.6906])\n",
      "TEST torch.Size([1000])\n"
     ]
    },
    {
     "ename": "ValueError",
     "evalue": "A very specific bad thing happened.",
     "output_type": "error",
     "traceback": [
      "\u001b[0;31m---------------------------------------------------------------------------\u001b[0m",
      "\u001b[0;31mValueError\u001b[0m                                Traceback (most recent call last)",
      "Cell \u001b[0;32mIn[5], line 36\u001b[0m\n\u001b[1;32m     34\u001b[0m Mapprox \u001b[39m=\u001b[39m estimM(d, m, samples)\n\u001b[1;32m     35\u001b[0m \u001b[39mprint\u001b[39m(theta)\n\u001b[0;32m---> 36\u001b[0m M \u001b[39m=\u001b[39m Mapprox(theta)\n\u001b[1;32m     37\u001b[0m \u001b[39mprint\u001b[39m(\u001b[39m'\u001b[39m\u001b[39mM \u001b[39m\u001b[39m'\u001b[39m, M)\n\u001b[1;32m     39\u001b[0m Fapprox \u001b[39m=\u001b[39m estimF(d, m, NN, kdv, samples)\n",
      "Cell \u001b[0;32mIn[4], line 82\u001b[0m, in \u001b[0;36mestimM.__call__\u001b[0;34m(self, theta)\u001b[0m\n\u001b[1;32m     80\u001b[0m gradU \u001b[39m=\u001b[39m gradNN(NN)\n\u001b[1;32m     81\u001b[0m result_grad \u001b[39m=\u001b[39m torch\u001b[39m.\u001b[39mzeros(\u001b[39mself\u001b[39m\u001b[39m.\u001b[39msamples\u001b[39m.\u001b[39msize()[\u001b[39m0\u001b[39m], \u001b[39m2\u001b[39m \u001b[39m*\u001b[39m m \u001b[39m+\u001b[39m d \u001b[39m*\u001b[39m m)\n\u001b[0;32m---> 82\u001b[0m result_grad\u001b[39m=\u001b[39m gradU\u001b[39m.\u001b[39;49mreturn_grad(\u001b[39mself\u001b[39;49m\u001b[39m.\u001b[39;49msamples)\n\u001b[1;32m     84\u001b[0m tensorproduct \u001b[39m=\u001b[39m torch\u001b[39m.\u001b[39mzeros(\u001b[39mself\u001b[39m\u001b[39m.\u001b[39msamples\u001b[39m.\u001b[39msize()[\u001b[39m0\u001b[39m], \u001b[39m2\u001b[39m \u001b[39m*\u001b[39m m \u001b[39m+\u001b[39m d \u001b[39m*\u001b[39m m, \u001b[39m2\u001b[39m \u001b[39m*\u001b[39m m \u001b[39m+\u001b[39m d \u001b[39m*\u001b[39m m)\n\u001b[1;32m     85\u001b[0m \u001b[39mfor\u001b[39;00m \u001b[39miter\u001b[39m \u001b[39min\u001b[39;00m \u001b[39mrange\u001b[39m(\u001b[39m0\u001b[39m, \u001b[39mself\u001b[39m\u001b[39m.\u001b[39msamples\u001b[39m.\u001b[39msize()[\u001b[39m0\u001b[39m]):\n",
      "Cell \u001b[0;32mIn[4], line 118\u001b[0m, in \u001b[0;36mgradNN.return_grad\u001b[0;34m(self, x)\u001b[0m\n\u001b[1;32m    116\u001b[0m y_pred \u001b[39m=\u001b[39m \u001b[39mself\u001b[39m\u001b[39m.\u001b[39mNN(x)\n\u001b[1;32m    117\u001b[0m \u001b[39mprint\u001b[39m(\u001b[39m'\u001b[39m\u001b[39mTEST\u001b[39m\u001b[39m'\u001b[39m, y_pred\u001b[39m.\u001b[39msize())\n\u001b[0;32m--> 118\u001b[0m \u001b[39mraise\u001b[39;00m \u001b[39mValueError\u001b[39;00m(\u001b[39m'\u001b[39m\u001b[39mA very specific bad thing happened.\u001b[39m\u001b[39m'\u001b[39m)\n\u001b[1;32m    119\u001b[0m d \u001b[39m=\u001b[39m \u001b[39mself\u001b[39m\u001b[39m.\u001b[39mNN\u001b[39m.\u001b[39md\n\u001b[1;32m    120\u001b[0m m \u001b[39m=\u001b[39m \u001b[39mself\u001b[39m\u001b[39m.\u001b[39mNN\u001b[39m.\u001b[39mm\n",
      "\u001b[0;31mValueError\u001b[0m: A very specific bad thing happened."
     ]
    }
   ],
   "source": [
    "# Parameters of the input\n",
    "d= 1 # spatial dimension\n",
    "m = 10 # Number of coefficients in the expansion\n",
    "\n",
    "start = time.time()\n",
    "\n",
    "# Number of sample to generate\n",
    "num_samples = 1000\n",
    "# Initial state of the Markov chain\n",
    "initial_state = torch.zeros(d)\n",
    "    # Target distribution : normal_law\n",
    "def target_distribution(x):\n",
    "    \"\"\"Target distribution: a standard Gaussian.\"\"\"\n",
    "    return torch.exp(-0.5 * x**2) / torch.sqrt(2 * torch.tensor(3.141592653589793))\n",
    "\n",
    "    # Proposal distribution: a normal law with mean x and standard deviation 'sigma'\n",
    "def proposal_distribution(x):\n",
    "    \"\"\"Proposal distribution: a Gaussian with mean x and standard deviation sigma.\"\"\"\n",
    "    sigma = 0.5\n",
    "    return dist.Normal(x, sigma)\n",
    "\n",
    "    # Create the sampler instance\n",
    "NN = ShallowExp(d, m)\n",
    "target_distribution = targetDistribution(NN)\n",
    "sampler = MetropolisHastingsSampler(num_samples, initial_state, target_distribution.value, proposal_distribution)\n",
    "    # Run Metropolis-Hastings algorithm\n",
    "samples, acceptance_rate = sampler.metropolis_hastings()\n",
    "samples = torch.rand(num_samples, 1)*30-10\n",
    "#print(samples)\n",
    "\n",
    "# Contruct estimF\n",
    "theta = torch.rand(2 * m + d * m) * 1\n",
    "\n",
    "Mapprox = estimM(d, m, samples)\n",
    "print(theta)\n",
    "M = Mapprox(theta)\n",
    "print('M ', M)\n",
    "\n",
    "Fapprox = estimF(d, m, NN, kdv, samples)\n",
    "F = Fapprox(1, theta)\n",
    "print('F', F)\n",
    "\n",
    "end = time.time()\n",
    "print('Code executed in', end - start, 'secondes')"
   ]
  },
  {
   "cell_type": "code",
   "execution_count": 6,
   "id": "3a49f990-be66-42a6-b557-b5a5441c90c7",
   "metadata": {},
   "outputs": [
    {
     "data": {
      "text/plain": [
       "tensor([[0.6322]])"
      ]
     },
     "execution_count": 6,
     "metadata": {},
     "output_type": "execute_result"
    }
   ],
   "source": [
    "a = torch.tensor([0.6322])\n",
    "a.unsqueeze(0)"
   ]
  },
  {
   "cell_type": "markdown",
   "id": "834bfadc-ab86-4c7f-a38e-a066d6469c29",
   "metadata": {},
   "source": [
    "# MERGE"
   ]
  },
  {
   "cell_type": "markdown",
   "id": "91f88844-21b1-4fc9-8e53-b8904d753182",
   "metadata": {},
   "source": [
    "### Define the Initial Condition $u_0$"
   ]
  },
  {
   "cell_type": "code",
   "execution_count": 7,
   "id": "713290d3-64cc-4c48-b805-d0715c02b419",
   "metadata": {},
   "outputs": [
    {
     "name": "stderr",
     "output_type": "stream",
     "text": [
      "WARNING:jax._src.lib.xla_bridge:No GPU/TPU found, falling back to CPU. (Set TF_CPP_MIN_LOG_LEVEL=0 and rerun for more info.)\n"
     ]
    },
    {
     "data": {
      "image/png": "[encoded data removed]",
      "text/plain": [
       "<Figure size 640x480 with 1 Axes>"
      ]
     },
     "metadata": {},
     "output_type": "display_data"
    }
   ],
   "source": [
    "import jax.numpy as jnp\n",
    "import matplotlib.pyplot as plt\n",
    "import numpy as np\n",
    "\n",
    "def exactKdVTwoSol(x, t):\n",
    "    '''\n",
    "    Same setup as in https://doi.org/10.1016/0021-9991(84)90004-4\n",
    "\n",
    "    Analytical and numerical aspects of certain nonlinear evolution equations. III. Numerical, Korteweg-de Vries equation\n",
    "    Thiab R Taha, Mark I Ablowitz\n",
    "    Journal of Computational Physics, Volume 55, Issue 2, August 1984, Pages 231-253\n",
    "    '''\n",
    "\n",
    "    k = jnp.asarray([1., jnp.sqrt(5.)])\n",
    "    eta = jnp.asarray([0., 10.73])\n",
    "    t = jnp.asarray(t)\n",
    "\n",
    "    etaMat1 = k[0]*x.reshape((-1,1)) - k[0]**3*t.reshape((1,-1)) + eta[0]\n",
    "    etaMat2 = k[1]*x.reshape((-1,1)) - k[1]**3*t.reshape((1,-1)) + eta[1]\n",
    "    c = ((k[0] - k[1])/(k[0] + k[1]))**2\n",
    "\n",
    "    f = 1. + jnp.exp(etaMat1) + jnp.exp(etaMat2) + jnp.multiply(jnp.exp(etaMat1), jnp.exp(etaMat2)*c)\n",
    "    df = k[0]*jnp.exp(etaMat1) + k[1]*jnp.exp(etaMat2) + c*(k[0] + k[1])*jnp.multiply(jnp.exp(etaMat1), jnp.exp(etaMat2))\n",
    "    ddf = k[0]**2*jnp.exp(etaMat1) + k[1]**2*jnp.exp(etaMat2) + c*(k[0] + k[1])**2*jnp.multiply(jnp.exp(etaMat1), jnp.exp(etaMat2))\n",
    "\n",
    "    y = 2*jnp.divide(jnp.multiply(f, ddf) - df**2, f**2);\n",
    "\n",
    "    y = jnp.nan_to_num(y, nan=0.0, posinf=0.0, neginf=0.0) # avoid numerical errors far outside of [-1, 2]\n",
    "\n",
    "    return y\n",
    "\n",
    "\n",
    "number_of_samples = 1000\n",
    "\n",
    "x_train = jnp.linspace(-10, 20, number_of_samples)\n",
    "y_value = exactKdVTwoSol(x_train, 0)\n",
    "x_train = np.array(x_train)\n",
    "y_value = np.array(y_value)\n",
    "plt.plot(x_train, y_value)\n",
    "plt.grid()\n",
    "\n",
    "initCD = torch.from_numpy(y_value)\n",
    "initCD = initCD.type(torch.DoubleTensor)\n",
    "initCD = initCD.T[0]\n",
    "#print(initCD)\n"
   ]
  },
  {
   "cell_type": "markdown",
   "id": "34ad66d7-fd16-42ec-8d0c-8aeb1fb35454",
   "metadata": {},
   "source": [
    "def init_kdv(x):\n",
    "    part1 = (1.0 - np.sqrt(2)) \n",
    "    part2 = (np.exp(x) + 2 * np.exp(np.sqrt(2)*x + 2 * np.sqrt(2)) + ((1+np.sqrt(2))**2)*np.exp(np.sqrt(2)*x + x))\n",
    "    part3 = 3 * (np.exp(x) + np.exp(np.sqrt(2) * x + 2 * np.sqrt(2)) + np.exp(np.sqrt(2)*x + x) + 1 + 2*np.sqrt(2))\n",
    "    part4 = (np.exp(x) + np.sqrt(2) * np.exp(np.sqrt(2)*x + 2 * np.sqrt(2)) + (1+np.sqrt(2))*np.exp(np.sqrt(2)*x + x))**2\n",
    "    part5 = 3 * (np.exp(x) + np.exp(np.sqrt(2) * x + 2 * np.sqrt(2)) + np.exp(np.sqrt(2)*x + x) + 1 + 2*np.sqrt(2))**2\n",
    "    return (part1 * part2 / part3) - part1 * part4 / part5\n",
    "\n",
    "number_of_samples = 100\n",
    "\n",
    "x_train = np.linspace(-10, 20, number_of_samples)\n",
    "plt.plot(x_train, init_kdv(x_train))\n",
    "plt.grid()\n",
    "\n",
    "initCD = torch.from_numpy(init_kdv(x_train))\n",
    "print(initCD)\n",
    "#initCD"
   ]
  },
  {
   "cell_type": "markdown",
   "id": "e118aae8-5a3e-4e6f-becd-bfb936167354",
   "metadata": {},
   "source": [
    "### Compute the initial parameter $\\theta_0$"
   ]
  },
  {
   "cell_type": "code",
   "execution_count": null,
   "id": "8189dbd7-460f-41ef-9baa-138cddc1bf2d",
   "metadata": {},
   "outputs": [
    {
     "name": "stderr",
     "output_type": "stream",
     "text": [
      "/home/ggarnier/Documents/project/inverse-neural-galerkin (2-08-23)/src/lib/neural_network.py:9: UserWarning: The neural network has been initiated with random theta\n",
      "  warnings.warn(\"The neural network has been initiated with random theta\")\n"
     ]
    }
   ],
   "source": [
    "torch.manual_seed(0)\n",
    "d = 1\n",
    "m = 10\n",
    "model = ShallowExp(d, m)\n",
    "\n",
    "x_train = np.linspace(-10, 20, number_of_samples)\n",
    "x_train = torch.from_numpy(x_train).unsqueeze(1)\n",
    "y_true = initCD\n",
    "y_pred = model(x_train) # vectorized "
   ]
  },
  {
   "cell_type": "code",
   "execution_count": 9,
   "id": "89b74dbc-c0d7-490b-8692-d3a0998691d3",
   "metadata": {},
   "outputs": [
    {
     "ename": "NameError",
     "evalue": "name 'model' is not defined",
     "output_type": "error",
     "traceback": [
      "\u001b[0;31m---------------------------------------------------------------------------\u001b[0m",
      "\u001b[0;31mNameError\u001b[0m                                 Traceback (most recent call last)",
      "Cell \u001b[0;32mIn[9], line 2\u001b[0m\n\u001b[1;32m      1\u001b[0m criterion\u001b[39m=\u001b[39mtorch\u001b[39m.\u001b[39mnn\u001b[39m.\u001b[39mMSELoss()\n\u001b[0;32m----> 2\u001b[0m optimizer\u001b[39m=\u001b[39mtorch\u001b[39m.\u001b[39moptim\u001b[39m.\u001b[39mAdam(model\u001b[39m.\u001b[39mparameters(),lr\u001b[39m=\u001b[39m\u001b[39m0.01\u001b[39m)\n\u001b[1;32m      4\u001b[0m num_epochs\u001b[39m=\u001b[39m\u001b[39m1000\u001b[39m\n\u001b[1;32m      6\u001b[0m total_acc, total_loss\u001b[39m=\u001b[39m[], []\n",
      "\u001b[0;31mNameError\u001b[0m: name 'model' is not defined"
     ]
    }
   ],
   "source": [
    "criterion=torch.nn.MSELoss()\n",
    "optimizer=torch.optim.Adam(model.parameters(),lr=0.01)\n",
    "\n",
    "num_epochs=1000\n",
    "\n",
    "total_acc, total_loss=[], []\n",
    "\n",
    "for epoch in range(num_epochs):\n",
    "    y_pred=model(x_train)\n",
    "    loss = criterion(y_pred,y_true)\n",
    "    loss.backward(retain_graph=True) # back propagation\n",
    "    optimizer.step()\n",
    "    optimizer.zero_grad()\n",
    "\n",
    "print('\\nTraining Complete')\n",
    "print('Loss: ', loss)\n",
    "print(model.theta)\n",
    "theta0 = model.theta"
   ]
  },
  {
   "cell_type": "code",
   "execution_count": 10,
   "id": "67ade27e-c450-494e-b25a-f2f9853792cb",
   "metadata": {},
   "outputs": [
    {
     "ename": "NameError",
     "evalue": "name 'number_of_samples' is not defined",
     "output_type": "error",
     "traceback": [
      "\u001b[0;31m---------------------------------------------------------------------------\u001b[0m",
      "\u001b[0;31mNameError\u001b[0m                                 Traceback (most recent call last)",
      "Cell \u001b[0;32mIn[10], line 2\u001b[0m\n\u001b[1;32m      1\u001b[0m \u001b[39mif\u001b[39;00m d\u001b[39m==\u001b[39m\u001b[39m1\u001b[39m:\n\u001b[0;32m----> 2\u001b[0m     xv \u001b[39m=\u001b[39m torch\u001b[39m.\u001b[39mlinspace(\u001b[39m-\u001b[39m\u001b[39m10.\u001b[39m, \u001b[39m20.\u001b[39m, number_of_samples)\n\u001b[1;32m      3\u001b[0m     y_pred \u001b[39m=\u001b[39m model(xv\u001b[39m.\u001b[39munsqueeze(\u001b[39m1\u001b[39m))\u001b[39m.\u001b[39mdetach()\u001b[39m.\u001b[39mnumpy()\n\u001b[1;32m      4\u001b[0m     plt\u001b[39m.\u001b[39mplot(xv\u001b[39m.\u001b[39mnumpy(), y_true, label\u001b[39m=\u001b[39m\u001b[39m'\u001b[39m\u001b[39my true\u001b[39m\u001b[39m'\u001b[39m)\n",
      "\u001b[0;31mNameError\u001b[0m: name 'number_of_samples' is not defined"
     ]
    }
   ],
   "source": [
    "if d==1:\n",
    "    xv = torch.linspace(-10., 20., number_of_samples)\n",
    "    y_pred = model(xv.unsqueeze(1)).detach().numpy()\n",
    "    plt.plot(xv.numpy(), y_true, label='y true')\n",
    "    plt.plot(xv.numpy(), y_pred, label='y pred')\n",
    "    plt.legend()\n",
    "    plt.grid()\n",
    "else:\n",
    "    print(\"Warning: Plot for d>1 not supported.\")"
   ]
  },
  {
   "cell_type": "markdown",
   "id": "07738a5e-6084-4855-b7ba-8d0c19e91254",
   "metadata": {},
   "source": [
    "def ODEintegrator(Mapprox, Fapprox, mesh, theta0=None):\n",
    "    \"\"\"\n",
    "    M is a callable class ,st M(theta) is a square matrix  \n",
    "    F same as M, F(theta) is a column vector \n",
    "    dt is the time stepout = odeint(f, z0, t);\n",
    "    mesh is the mesh \n",
    "    theta0 is a vector (to be converted from ParameterNN ?) obtained by eq (9) \n",
    "    \"\"\"\n",
    "    dt = torch.abs(mesh[1]-mesh[0]) # this can be better\n",
    "\n",
    "    list_theta= []\n",
    "    list_theta.append(theta0.detach().clone())\n",
    "    for k,t in enumerate(mesh[1:]):\n",
    "        print(k)\n",
    "        M = Mapprox(list_theta[-1])\n",
    "        M = M + 0.05 * torch.eye(M.size()[0])   # 0.01 marchait à peut près et 0.05 aussi\n",
    "        F = Fapprox(k, list_theta[-1])\n",
    "        #list_theta.append(list_theta[-1]-dt*torch.linalg.pinv(M) @ F)\n",
    "        list_theta.append(list_theta[-1]-dt*torch.linalg.inv(M) @ F)\n",
    "    print(\"The integrator is done\")\n",
    "    return torch.stack(list_theta).T \n",
    "\n",
    "Mapprox = estimM(d, m, samples)\n",
    "Fapprox = estimF(d, m, NN, kdv, samples)\n",
    "number_of_times = 1000\n",
    "Time_Mesh = torch.linspace(0, 4, number_of_times)\n",
    "allTheta = ODEintegrator(Mapprox, Fapprox, Time_Mesh, theta0)"
   ]
  },
  {
   "cell_type": "code",
   "execution_count": 12,
   "id": "94f6fc11-7343-4576-bd7a-f05b5dbf4658",
   "metadata": {},
   "outputs": [
    {
     "name": "stdout",
     "output_type": "stream",
     "text": [
      "0\n",
      "1\n",
      "2\n",
      "3\n",
      "4\n",
      "5\n",
      "6\n",
      "7\n",
      "8\n",
      "9\n",
      "10\n",
      "11\n",
      "12\n",
      "13\n",
      "14\n",
      "15\n",
      "16\n",
      "17\n",
      "18\n",
      "19\n",
      "20\n",
      "21\n",
      "22\n",
      "23\n",
      "24\n",
      "25\n",
      "26\n",
      "27\n",
      "28\n",
      "29\n",
      "30\n",
      "31\n",
      "32\n",
      "33\n",
      "34\n",
      "35\n",
      "36\n",
      "37\n",
      "38\n",
      "39\n",
      "40\n",
      "41\n",
      "42\n",
      "43\n",
      "44\n",
      "45\n",
      "46\n",
      "47\n",
      "48\n",
      "49\n",
      "50\n",
      "51\n",
      "52\n",
      "53\n",
      "54\n",
      "55\n",
      "56\n",
      "57\n",
      "58\n",
      "59\n",
      "60\n",
      "61\n",
      "62\n",
      "63\n",
      "64\n",
      "65\n",
      "66\n",
      "67\n",
      "68\n",
      "69\n",
      "70\n",
      "71\n",
      "72\n",
      "73\n",
      "74\n",
      "75\n",
      "76\n",
      "77\n",
      "78\n",
      "79\n",
      "80\n",
      "81\n",
      "82\n",
      "83\n",
      "84\n",
      "85\n",
      "86\n",
      "87\n",
      "88\n",
      "89\n",
      "90\n",
      "91\n",
      "92\n",
      "93\n",
      "94\n",
      "95\n",
      "96\n",
      "97\n",
      "98\n",
      "The integrator is done\n"
     ]
    }
   ],
   "source": [
    "def ODEintegrator(Mapprox, Fapprox, mesh, theta0=None):\n",
    "    \"\"\"\n",
    "    M is a callable class ,st M(theta) is a square matrix  \n",
    "    F same as M, F(theta) is a column vector \n",
    "    dt is the time stepout = odeint(f, z0, t);\n",
    "    mesh is the mesh \n",
    "    theta0 is a vector (to be converted from ParameterNN ?) obtained by eq (9) \n",
    "    \"\"\"\n",
    "    dt = torch.abs(mesh[1]-mesh[0]) # this can be better\n",
    "\n",
    "    list_theta= []\n",
    "    list_theta.append(theta0.detach().clone())\n",
    "    for k,t in enumerate(mesh[1:]):\n",
    "        print(k)\n",
    "        M = Mapprox(list_theta[-1])\n",
    "        M = M + 0.15 * torch.eye(M.size()[0])   # 0.01 marchait à peut près et 0.05 aussi\n",
    "        F = Fapprox(k, list_theta[-1])\n",
    "        #list_theta.append(list_theta[-1]-dt*torch.linalg.pinv(M) @ F)\n",
    "        list_theta.append(list_theta[-1]-dt*torch.linalg.inv(M) @ F)\n",
    "    print(\"The integrator is done\")\n",
    "    return torch.stack(list_theta).T \n",
    "\n",
    "Mapprox = estimM(d, m, samples)\n",
    "Fapprox = estimF(d, m, NN, kdv, samples)\n",
    "number_of_times = 100\n",
    "Time_Mesh = torch.linspace(0, 4, number_of_times)\n",
    "allTheta = ODEintegrator(Mapprox, Fapprox, Time_Mesh, theta0)"
   ]
  },
  {
   "cell_type": "code",
   "execution_count": 13,
   "id": "eb41fd09-f869-40da-8e3d-8c89e9922f9b",
   "metadata": {},
   "outputs": [
    {
     "data": {
      "image/png": "[encoded data removed]",
      "text/plain": [
       "<Figure size 400x1600 with 2 Axes>"
      ]
     },
     "metadata": {},
     "output_type": "display_data"
    }
   ],
   "source": [
    "import numpy as np\n",
    "import matplotlib.pyplot as plt\n",
    "\n",
    "\n",
    "Q = torch.rand(number_of_times, number_of_samples)\n",
    "\n",
    "for iter in range(number_of_times):\n",
    "    theta_t = allTheta[:, iter]\n",
    "    model_t = ShallowExp(d,m, theta_t)\n",
    "    y_t = model_t(x_train)\n",
    "    Q[iter, :] = y_t\n",
    "\n",
    "Q = torch.fliplr(Q)\n",
    "\n",
    "plt.matshow(Q.T.detach().numpy(), aspect=0.1)\n",
    "plt.colorbar()\n",
    "plt.show()\n",
    "#plt.matshow(Q.detach().numpy(),  cmap ='Greens',\n",
    "#              extent =[0, 4, 20,-10],\n",
    "#              interpolation ='nearest',\n",
    "#               origin ='lower')"
   ]
  },
  {
   "cell_type": "code",
   "execution_count": 14,
   "id": "a33a03eb-b913-40b6-bb2f-3681e48e99ba",
   "metadata": {},
   "outputs": [
    {
     "data": {
      "text/plain": [
       "[<matplotlib.lines.Line2D at 0x7f9d5a696a00>]"
      ]
     },
     "execution_count": 14,
     "metadata": {},
     "output_type": "execute_result"
    },
    {
     "data": {
      "image/png": "[encoded data removed]",
      "text/plain": [
       "<Figure size 640x480 with 1 Axes>"
      ]
     },
     "metadata": {},
     "output_type": "display_data"
    }
   ],
   "source": [
    "theta_t = allTheta[:, 70]\n",
    "model_t = ShallowExp(d,m, theta_t)\n",
    "y_t = model_t(x_train)\n",
    "\n",
    "plt.plot(x_train.detach().numpy(), y_t.detach().numpy())"
   ]
  },
  {
   "cell_type": "code",
   "execution_count": 15,
   "id": "13c5d127",
   "metadata": {},
   "outputs": [
    {
     "name": "stdout",
     "output_type": "stream",
     "text": [
      "x= tensor([0.0083, 0.3984, 0.5960, 0.5051, 0.8130, 0.5943, 0.5064, 0.2777, 0.9920,\n",
      "        0.9155, 0.3695, 0.8002, 0.0965, 0.3496, 0.1895, 0.2498, 0.0909, 0.3586,\n",
      "        0.4663, 0.6349, 0.5236, 0.1462, 0.2708, 0.6751, 0.2320, 0.5242, 0.9546,\n",
      "        0.8931, 0.2501, 0.1346, 0.7316, 0.9508, 0.0842, 0.7354, 0.9832, 0.5185,\n",
      "        0.0578, 0.9146, 0.8678, 0.1430, 0.9567]) size torch.Size([41])\n",
      "size C torch.Size([5])\n",
      "tensor([0.0083, 0.3984, 0.5960, 0.5051, 0.8130])\n",
      "size B torch.Size([3, 2])\n",
      "tensor([0.9155, 0.3695])\n",
      "size W torch.Size([3, 5, 2])\n",
      "tensor([[0.9508, 0.0842],\n",
      "        [0.7354, 0.9832],\n",
      "        [0.5185, 0.0578],\n",
      "        [0.9146, 0.8678],\n",
      "        [0.1430, 0.9567]])\n"
     ]
    }
   ],
   "source": [
    "import torch as tc\n",
    "\n",
    "def splitternn(x,m,d,l):\n",
    "\tc=x[:m]\n",
    "\tb=x[m:m+d*l].reshape(l,d)\n",
    "\tw=x[m+d*l:].reshape(l,m,d)\n",
    "\treturn (c,b,w)\n",
    "\n",
    "m,d,l=5,2,3\n",
    "x=tc.rand(m+m*d*l+d*l)\n",
    "print('x=',x,'size',x.shape)\n",
    "c,b,w=splitternn(x,m,d,l)\n",
    "\n",
    "print('size C',c.shape)\n",
    "print(c)\n",
    "print('size B',b.shape)\n",
    "print(b[2])\n",
    "print('size W',w.shape)\n",
    "print(w[2])\n",
    "\n"
   ]
  },
  {
   "cell_type": "code",
   "execution_count": 35,
   "id": "7ec11cb2",
   "metadata": {},
   "outputs": [
    {
     "name": "stdout",
     "output_type": "stream",
     "text": [
      "tensor(3)\n",
      "torch.Size([])\n"
     ]
    }
   ],
   "source": [
    "x = torch.tensor(3)"
   ]
  },
  {
   "cell_type": "code",
   "execution_count": 14,
   "id": "4d140cff",
   "metadata": {},
   "outputs": [
    {
     "name": "stdout",
     "output_type": "stream",
     "text": [
      "tensor(3)\n",
      "tensor([[-0.0034],\n",
      "        [-0.0091],\n",
      "        [-0.0909],\n",
      "        [-0.0532],\n",
      "        [-0.2283]])\n",
      "\n",
      "pass\n",
      "tensor([0.6689, 0.6245, 0.7229, 0.6439, 0.7311])\n",
      "x tensor(3.3913)\n"
     ]
    }
   ],
   "source": [
    "import torch as tc\n",
    "\n",
    "m = 5\n",
    "l = 3\n",
    "d = 1\n",
    "L = 0.5\n",
    "x  = tc.tensor(3)\n",
    "print(x)\n",
    "\n",
    "c = tc.ones(m)\n",
    "b = [tc.rand(d) for i in range(l)]\n",
    "w = [tc.rand(m,d) for i in range(l)]\n",
    "\n",
    "print(tc.tanh(w[0] * tc.sin(2*tc.pi*(x - b[0])/L)))\n",
    "print()\n",
    "print('pass')\n",
    "\n",
    "x = tc.tanh(w[0]* tc.sin(2*tc.pi*(x - b[0])/L))\n",
    "#print('x', x)\n",
    "for k in range(1,l):\n",
    "    x = tc.tanh(w[k] * x + b[k])\n",
    "x = x.squeeze()\n",
    "print(x)\n",
    "x = tc.dot(c, x)\n",
    "\n",
    "print('x', x)"
   ]
  },
  {
   "cell_type": "code",
   "execution_count": null,
   "id": "9914bf80",
   "metadata": {},
   "outputs": [],
   "source": []
  }
 ],
 "metadata": {
  "kernelspec": {
   "display_name": "Python 3 (ipykernel)",
   "language": "python",
   "name": "python3"
  },
  "language_info": {
   "codemirror_mode": {
    "name": "ipython",
    "version": 3
   },
   "file_extension": ".py",
   "mimetype": "text/x-python",
   "name": "python",
   "nbconvert_exporter": "python",
   "pygments_lexer": "ipython3",
   "version": "3.11.4"
  }
 },
 "nbformat": 4,
 "nbformat_minor": 5
}
