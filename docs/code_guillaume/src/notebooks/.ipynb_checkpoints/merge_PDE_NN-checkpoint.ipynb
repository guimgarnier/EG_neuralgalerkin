{
 "cells": [
  {
   "cell_type": "code",
   "execution_count": 1,
   "id": "5b36e4ae-7cb3-487f-b889-a5d38f3e9c50",
   "metadata": {},
   "outputs": [],
   "source": [
    "import os\n",
    "import sys\n",
    "module_path = os.path.abspath(os.path.join('..'))\n",
    "if module_path not in sys.path:\n",
    "    sys.path.append(module_path)\n",
    "module_path = os.path.abspath(os.path.join('../..'))\n",
    "sys.path.append(module_path)\n",
    "\n",
    "import torch\n",
    "import torch.nn as nn\n",
    "import matplotlib.pyplot as plt\n",
    "import numpy as np\n",
    "\n",
    "from itertools import product\n",
    "import torch\n",
    "import torch.distributions as dist\n",
    "torch.manual_seed(0)\n",
    "\n",
    "from lib.neural_network import ShallowExp\n",
    "from lib.PDE import KdV,AllenCahn,AD\n",
    "from lib.measure import MetropolisHastingsSampler, monte_carlo_integration\n",
    "#from lib.PDEmerge import Problem, ParameterNN, estimF, estimM, targetDistribution, gradNN"
   ]
  },
  {
   "cell_type": "code",
   "execution_count": 2,
   "id": "fd5e6fec-e7d2-43ba-afd4-68fe0322bd13",
   "metadata": {},
   "outputs": [
    {
     "data": {
      "text/plain": [
       "'2.0.1'"
      ]
     },
     "execution_count": 2,
     "metadata": {},
     "output_type": "execute_result"
    }
   ],
   "source": [
    "torch.__version__"
   ]
  },
  {
   "cell_type": "markdown",
   "id": "b22aeb28-bcc9-40d0-95aa-f3f3e91b8e7c",
   "metadata": {},
   "source": [
    "# Merge PDE & NN"
   ]
  },
  {
   "cell_type": "code",
   "execution_count": 3,
   "id": "cce171c8-525d-45f1-a331-f0d5495c59b8",
   "metadata": {},
   "outputs": [],
   "source": [
    "class Problem:\n",
    "    def __init__(self, name, initial_condition):\n",
    "        self.name = name\n",
    "        self.initial_condition = initial_condition\n",
    "    def evaluate(self, t, x, f):\n",
    "        if name=='KdV':\n",
    "            KDV=KdV(initial_condition)\n",
    "        else:\n",
    "            raise Exception(\"The problem name has not been found in the database\")\n",
    "\n",
    "class ParameterNN:\n",
    "    \"\"\"\n",
    "    Code a class to define a Parameter theta. \n",
    "    \"\"\"\n",
    "    \n",
    "    def __init__(self, w, b, c):\n",
    "        self.w = w\n",
    "        self.b = b\n",
    "        self.c = c\n",
    "      \n",
    "    \n",
    "def kdv(xspace, model):\n",
    "    funct=torch.zeros(len(xspace))\n",
    "    iter = 0\n",
    "    for x in xspace:\n",
    "        x = x.unsqueeze(1)\n",
    "        x.requires_grad = True\n",
    "        u = model(x)\n",
    "\n",
    "        u_x = torch.autograd.grad(u,x, retain_graph=True, create_graph=True)\n",
    "        u_xx = torch.autograd.grad(u_x[0],x, retain_graph=True, create_graph=True)\n",
    "        u_xxx = torch.autograd.grad(u_xx[0],x)\n",
    "        aux = - u_xxx[0] + 6 * u_x[0] * u.unsqueeze(1)\n",
    "        funct[iter] = aux[0]\n",
    "        iter = iter + 1\n",
    "    return funct\n",
    "\n",
    "class estimF:\n",
    "    \"\"\"\n",
    "    Compute the Integral F by the Monte Carlo methods\n",
    "    \"\"\"\n",
    "    def __init__(self, d, m, NN, f, samples):\n",
    "        self.NN = NN\n",
    "        self.f = f\n",
    "        self.samples = samples\n",
    "        self.d = d\n",
    "        self.m = m\n",
    "\n",
    "    def __call__(self, t, theta):\n",
    "        self.NN = ShallowExp(self.d, self.m, theta)\n",
    "        # Compute every U(theta, xi) and return tensor([[value1 at x1], [value2 at x2], ...])\n",
    "        y_pred = self.NN(self.samples)\n",
    "        \n",
    "        # Compute every gradU(theta,xi)\n",
    "        gradU = gradNN(self.NN)\n",
    "        result_grad = torch.zeros(self.samples.size()[0], 2 * m + d * m)\n",
    "        result_grad= gradU.return_grad(theta, self.samples)\n",
    "        \n",
    "        result_f = self.f(self.samples, self.NN)\n",
    "        result_f = result_f.unsqueeze(1)  \n",
    "    \n",
    "        return torch.mean(result_grad * result_f, dim=0)\n",
    "    \n",
    "class estimM:\n",
    "    \"\"\"\n",
    "    Compute the Integral M by the Monte Carlo methods\n",
    "    \"\"\"\n",
    "    def __init__(self, d, m, samples):\n",
    "        self.samples = samples\n",
    "        self.d = d\n",
    "        self.m = m\n",
    "\n",
    "    def __call__(self, theta):\n",
    "        NN = ShallowExp(self.d, self.m, theta)\n",
    "        \n",
    "        # Compute every U(theta, xi) and return tensor([[value1 at x1], [value2 at x2], ...])\n",
    "        y_pred = NN(self.samples)\n",
    "        \n",
    "        # Compute every gradU(theta,xi)\n",
    "        gradU = gradNN(NN)\n",
    "        result_grad = torch.zeros(self.samples.size()[0], 2 * m + d * m)\n",
    "        result_grad= gradU.return_grad(theta, self.samples)\n",
    "        \n",
    "        tensorproduct = torch.zeros(self.samples.size()[0], 2 * m + d * m, 2 * m + d * m)\n",
    "        for iter in range(0, self.samples.size()[0]):\n",
    "            tensorproduct[iter] = torch.outer(result_grad[iter], result_grad[iter])    \n",
    "         \n",
    "        return torch.mean(tensorproduct, dim=0)\n",
    "    \n",
    "class targetDistribution:\n",
    "    \"\"\"\n",
    "    Define the distribution we use to make our integration. \n",
    "    \"\"\"\n",
    "    def __init__(self, NN):\n",
    "        self.NN = NN\n",
    "    def value(self, x):\n",
    "        return self.NN(x)\n",
    "    \n",
    "class gradNN:\n",
    "    def __init__(self, NN):\n",
    "        self.NN = NN\n",
    "    def return_grad(self, theta, x):        \n",
    "        y_pred = self.NN(x)\n",
    "        d = self.NN.d\n",
    "        m = self.NN.m\n",
    "        result_grad = torch.zeros(y_pred.size()[0], 2 * m + d * m)\n",
    "        iter = 0\n",
    "        for y_pred_item in y_pred:\n",
    "            grad_theta = torch.autograd.grad(y_pred_item, (self.NN.theta), retain_graph=True)\n",
    "            result_grad[iter] = grad_theta[0]\n",
    "            iter = iter+1\n",
    "        return result_grad\n",
    "        "
   ]
  },
  {
   "cell_type": "code",
   "execution_count": 4,
   "id": "5686af74-98c9-40db-a30c-a449100a7660",
   "metadata": {},
   "outputs": [
    {
     "name": "stdout",
     "output_type": "stream",
     "text": [
      "tensor([0.8330, 0.2389, 0.5049, 0.7067, 0.5392, 0.5418, 0.5624, 0.1069, 0.5393,\n",
      "        0.8462, 0.9506, 0.7939, 0.5670, 0.7335, 0.2568])\n",
      "M  tensor([[ 2.3335e-01,  2.5045e-01,  2.4664e-01,  2.5568e-01,  2.9861e-01,\n",
      "          4.3677e-02,  9.9040e-03,  4.2897e-02,  3.0342e-02, -1.5084e-03,\n",
      "         -8.5450e-02, -2.4514e-02, -7.9117e-02, -7.2879e-02, -2.8526e-02],\n",
      "        [ 2.5045e-01,  2.7196e-01,  2.6940e-01,  2.7866e-01,  3.4194e-01,\n",
      "          5.7295e-02,  1.3732e-02,  5.0141e-02,  4.1399e-02,  6.1927e-04,\n",
      "         -1.0466e-01, -3.1463e-02, -1.0141e-01, -9.5435e-02, -4.3875e-02],\n",
      "        [ 2.4664e-01,  2.6940e-01,  2.7581e-01,  2.7746e-01,  3.5771e-01,\n",
      "          3.7449e-02,  9.5551e-03,  4.5535e-02,  3.0673e-02,  1.1240e-03,\n",
      "         -1.1069e-01, -3.5013e-02, -1.0581e-01, -1.0773e-01, -6.8426e-02],\n",
      "        [ 2.5568e-01,  2.7866e-01,  2.7746e-01,  2.8598e-01,  3.5833e-01,\n",
      "          5.9105e-02,  1.4452e-02,  5.2042e-02,  4.3710e-02,  1.5019e-03,\n",
      "         -1.1100e-01, -3.4019e-02, -1.0917e-01, -1.0395e-01, -5.2522e-02],\n",
      "        [ 2.9861e-01,  3.4194e-01,  3.5771e-01,  3.5833e-01,  6.9945e-01,\n",
      "          1.0492e-01,  3.1849e-02,  9.0992e-02,  9.9712e-02,  4.3384e-02,\n",
      "         -1.8653e-01, -7.2436e-02, -2.6684e-01, -2.4512e-01, -4.2230e-01],\n",
      "        [ 4.3677e-02,  5.7295e-02,  3.7449e-02,  5.9105e-02,  1.0492e-01,\n",
      "          1.2227e-01,  2.9603e-02,  3.9448e-02,  8.0356e-02,  1.0334e-02,\n",
      "         -5.4876e-02, -1.7179e-02, -8.0382e-02, -5.5984e-02, -1.1286e-02],\n",
      "        [ 9.9040e-03,  1.3732e-02,  9.5551e-03,  1.4452e-02,  3.1849e-02,\n",
      "          2.9603e-02,  7.5222e-03,  1.0437e-02,  2.0793e-02,  3.4456e-03,\n",
      "         -1.4991e-02, -5.2964e-03, -2.3512e-02, -1.7741e-02, -9.0434e-03],\n",
      "        [ 4.2897e-02,  5.0141e-02,  4.5535e-02,  5.2042e-02,  9.0992e-02,\n",
      "          3.9448e-02,  1.0437e-02,  1.9478e-02,  2.9962e-02,  5.9738e-03,\n",
      "         -2.9902e-02, -1.0804e-02, -4.4411e-02, -3.5994e-02, -3.1013e-02],\n",
      "        [ 3.0342e-02,  4.1399e-02,  3.0673e-02,  4.3710e-02,  9.9712e-02,\n",
      "          8.0356e-02,  2.0793e-02,  2.9962e-02,  5.7987e-02,  1.0607e-02,\n",
      "         -4.2991e-02, -1.5786e-02, -6.9411e-02, -5.3372e-02, -3.4609e-02],\n",
      "        [-1.5084e-03,  6.1927e-04,  1.1240e-03,  1.5019e-03,  4.3384e-02,\n",
      "          1.0334e-02,  3.4456e-03,  5.9738e-03,  1.0607e-02,  7.7085e-03,\n",
      "         -6.3585e-03, -4.1567e-03, -2.1833e-02, -1.6553e-02, -6.2497e-02],\n",
      "        [-8.5450e-02, -1.0466e-01, -1.1069e-01, -1.1100e-01, -1.8653e-01,\n",
      "         -5.4876e-02, -1.4991e-02, -2.9902e-02, -4.2991e-02, -6.3585e-03,\n",
      "          8.6658e-02,  2.9696e-02,  9.0148e-02,  9.4286e-02,  5.2471e-02],\n",
      "        [-2.4514e-02, -3.1463e-02, -3.5013e-02, -3.4019e-02, -7.2436e-02,\n",
      "         -1.7179e-02, -5.2964e-03, -1.0804e-02, -1.5786e-02, -4.1567e-03,\n",
      "          2.9696e-02,  1.1485e-02,  3.6891e-02,  3.8016e-02,  3.2995e-02],\n",
      "        [-7.9117e-02, -1.0141e-01, -1.0581e-01, -1.0917e-01, -2.6684e-01,\n",
      "         -8.0382e-02, -2.3512e-02, -4.4411e-02, -6.9411e-02, -2.1833e-02,\n",
      "          9.0148e-02,  3.6891e-02,  1.3780e-01,  1.2642e-01,  1.5685e-01],\n",
      "        [-7.2879e-02, -9.5435e-02, -1.0773e-01, -1.0395e-01, -2.4512e-01,\n",
      "         -5.5984e-02, -1.7741e-02, -3.5994e-02, -5.3372e-02, -1.6553e-02,\n",
      "          9.4286e-02,  3.8016e-02,  1.2642e-01,  1.2785e-01,  1.3018e-01],\n",
      "        [-2.8526e-02, -4.3875e-02, -6.8426e-02, -5.2522e-02, -4.2230e-01,\n",
      "         -1.1286e-02, -9.0434e-03, -3.1013e-02, -3.4609e-02, -6.2497e-02,\n",
      "          5.2471e-02,  3.2995e-02,  1.5685e-01,  1.3018e-01,  6.2568e-01]])\n",
      "F tensor([-1.6967, -2.1102, -1.3904, -2.1496, -3.3215, -4.1135, -0.9656, -1.2840,\n",
      "        -2.5973, -0.2914,  1.6906,  0.4882,  2.4435,  1.5693,  0.1049],\n",
      "       grad_fn=<MeanBackward1>)\n"
     ]
    },
    {
     "name": "stderr",
     "output_type": "stream",
     "text": [
      "/home/ggarnier/Documents/project/inverse-neural-galerkin/src/lib/neural_network.py:9: UserWarning: The neural network has been initiated with random theta\n",
      "  warnings.warn(\"The neural network has been initiated with random theta\")\n"
     ]
    }
   ],
   "source": [
    "# Parameters of the input\n",
    "d= 1 # spatial dimension\n",
    "m = 5 # Number of coefficients in the expansion\n",
    "\n",
    "# Number of samples to generate\n",
    "num_samples = 100\n",
    "# Initial state of the Markov chain\n",
    "initial_state = torch.zeros(d)\n",
    "    # Target distribution : normal_law\n",
    "def target_distribution(x):\n",
    "    \"\"\"Target distribution: a standard Gaussian.\"\"\"\n",
    "    return torch.exp(-0.5 * x**2) / torch.sqrt(2 * torch.tensor(3.141592653589793))\n",
    "\n",
    "    # Proposal distribution: a normal law with mean x and standard deviation 'sigma'\n",
    "def proposal_distribution(x):\n",
    "    \"\"\"Proposal distribution: a Gaussian with mean x and standard deviation sigma.\"\"\"\n",
    "    sigma = 0.5\n",
    "    return dist.Normal(x, sigma)\n",
    "\n",
    "    # Create the sampler instance\n",
    "NN = ShallowExp(d, m)\n",
    "target_distribution = targetDistribution(NN)\n",
    "sampler = MetropolisHastingsSampler(num_samples, initial_state, target_distribution.value, proposal_distribution)\n",
    "    # Run Metropolis-Hastings algorithm\n",
    "samples, acceptance_rate = sampler.metropolis_hastings()\n",
    "\n",
    "# Contruct estimF\n",
    "theta = torch.rand(2 * m + d * m) * 1\n",
    "\n",
    "Mapprox = estimM(d, m, samples)\n",
    "print(theta)\n",
    "M = Mapprox(theta)\n",
    "print('M ', M)\n",
    "\n",
    "Fapprox = estimF(d, m, NN, kdv, samples)\n",
    "F = Fapprox(1, theta)\n",
    "print('F', F)"
   ]
  },
  {
   "cell_type": "code",
   "execution_count": 5,
   "id": "786f0a4c-934a-477f-9b12-9d9c3e958712",
   "metadata": {},
   "outputs": [
    {
     "name": "stdout",
     "output_type": "stream",
     "text": [
      "tensor([[1., 1., 1.],\n",
      "        [1., 1., 1.],\n",
      "        [1., 1., 1.],\n",
      "        [1., 1., 1.],\n",
      "        [1., 1., 1.],\n",
      "        [1., 1., 1.],\n",
      "        [1., 1., 1.],\n",
      "        [1., 1., 1.],\n",
      "        [1., 1., 1.],\n",
      "        [1., 1., 1.]])\n",
      "tensor([[0.0857],\n",
      "        [0.0700],\n",
      "        [0.9988],\n",
      "        [0.8174],\n",
      "        [0.1544],\n",
      "        [0.6956],\n",
      "        [0.8776],\n",
      "        [0.9998],\n",
      "        [0.9372],\n",
      "        [0.8874]])\n"
     ]
    },
    {
     "data": {
      "text/plain": [
       "tensor([[0.0857, 0.0857, 0.0857],\n",
       "        [0.0700, 0.0700, 0.0700],\n",
       "        [0.9988, 0.9988, 0.9988],\n",
       "        [0.8174, 0.8174, 0.8174],\n",
       "        [0.1544, 0.1544, 0.1544],\n",
       "        [0.6956, 0.6956, 0.6956],\n",
       "        [0.8776, 0.8776, 0.8776],\n",
       "        [0.9998, 0.9998, 0.9998],\n",
       "        [0.9372, 0.9372, 0.9372],\n",
       "        [0.8874, 0.8874, 0.8874]])"
      ]
     },
     "execution_count": 5,
     "metadata": {},
     "output_type": "execute_result"
    }
   ],
   "source": [
    "a = torch.ones(10, 3)\n",
    "print(a)\n",
    "b = torch.rand(10, 1)\n",
    "print(b)\n",
    "a*b"
   ]
  },
  {
   "cell_type": "code",
   "execution_count": 6,
   "id": "3a49f990-be66-42a6-b557-b5a5441c90c7",
   "metadata": {},
   "outputs": [
    {
     "data": {
      "text/plain": [
       "tensor([[0.6322]])"
      ]
     },
     "execution_count": 6,
     "metadata": {},
     "output_type": "execute_result"
    }
   ],
   "source": [
    "a = torch.tensor([0.6322])\n",
    "a.unsqueeze(0)"
   ]
  },
  {
   "cell_type": "markdown",
   "id": "834bfadc-ab86-4c7f-a38e-a066d6469c29",
   "metadata": {},
   "source": [
    "# MERGE"
   ]
  },
  {
   "cell_type": "markdown",
   "id": "91f88844-21b1-4fc9-8e53-b8904d753182",
   "metadata": {},
   "source": [
    "### Define the Initial Condition $u_0$"
   ]
  },
  {
   "cell_type": "code",
   "execution_count": 7,
   "id": "cac87c4e-9ab4-4e77-a243-551db188f470",
   "metadata": {},
   "outputs": [],
   "source": [
    "def init_kdv(x):\n",
    "    part1 = (1.0 - np.sqrt(2)) \n",
    "    part2 = (np.exp(x) + 2 * np.exp(np.sqrt(2)*x + 2 * np.sqrt(2)) + ((1+np.sqrt(2))**2)*np.exp(np.sqrt(2)*x + x))\n",
    "    part3 = 3 * (np.exp(x) + np.exp(np.sqrt(2) * x + 2 * np.sqrt(2)) + np.exp(np.sqrt(2)*x + x) + 1 + 2*np.sqrt(2))\n",
    "    part4 = (np.exp(x) + np.sqrt(2) * np.exp(np.sqrt(2)*x + 2 * np.sqrt(2)) + (1+np.sqrt(2))*np.exp(np.sqrt(2)*x + x))**2\n",
    "    part5 = 3 * (np.exp(x) + np.exp(np.sqrt(2) * x + 2 * np.sqrt(2)) + np.exp(np.sqrt(2)*x + x) + 1 + 2*np.sqrt(2))**2\n",
    "    return (part1 * part2 / part3) - part1 * part4 / part5"
   ]
  },
  {
   "cell_type": "code",
   "execution_count": null,
   "id": "816be80e-5431-42a0-9b36-b165a1bfd6f2",
   "metadata": {},
   "outputs": [],
   "source": []
  },
  {
   "cell_type": "code",
   "execution_count": null,
   "id": "20954a9b-4a63-46c7-a712-b089747cffd2",
   "metadata": {},
   "outputs": [],
   "source": []
  },
  {
   "cell_type": "code",
   "execution_count": 8,
   "id": "7642f948-d83c-468b-88b6-eddb359c3649",
   "metadata": {},
   "outputs": [
    {
     "data": {
      "image/png": "[encoded data removed]",
      "text/plain": [
       "<Figure size 640x480 with 1 Axes>"
      ]
     },
     "metadata": {},
     "output_type": "display_data"
    }
   ],
   "source": [
    "def init_kdv(x):\n",
    "    part1 = (1.0 - np.sqrt(2)) \n",
    "    part2 = (np.exp(x) + 2 * np.exp(np.sqrt(2)*x + 2 * np.sqrt(2)) + ((1+np.sqrt(2))**2)*np.exp(np.sqrt(2)*x + x))\n",
    "    part3 = 3 * (np.exp(x) + np.exp(np.sqrt(2) * x + 2 * np.sqrt(2)) + np.exp(np.sqrt(2)*x + x) + 1 + 2*np.sqrt(2))\n",
    "    part4 = (np.exp(x) + np.sqrt(2) * np.exp(np.sqrt(2)*x + 2 * np.sqrt(2)) + (1+np.sqrt(2))*np.exp(np.sqrt(2)*x + x))**2\n",
    "    part5 = 3 * (np.exp(x) + np.exp(np.sqrt(2) * x + 2 * np.sqrt(2)) + np.exp(np.sqrt(2)*x + x) + 1 + 2*np.sqrt(2))**2\n",
    "    return (part1 * part2 / part3) - part1 * part4 / part5\n",
    "\n",
    "number_of_samples = 100\n",
    "\n",
    "x_train = np.linspace(-20, 40, number_of_samples)\n",
    "plt.plot(x_train, init_kdv(x_train))\n",
    "plt.grid()"
   ]
  },
  {
   "cell_type": "code",
   "execution_count": 10,
   "id": "5b54132d-3f46-4a82-a208-c648efac47fb",
   "metadata": {},
   "outputs": [],
   "source": [
    "initCD = torch.from_numpy(init_kdv(x_train))\n",
    "#initCD"
   ]
  },
  {
   "cell_type": "markdown",
   "id": "e118aae8-5a3e-4e6f-becd-bfb936167354",
   "metadata": {},
   "source": [
    "### Compute the initial parameter $\\theta_0$"
   ]
  },
  {
   "cell_type": "code",
   "execution_count": 11,
   "id": "8189dbd7-460f-41ef-9baa-138cddc1bf2d",
   "metadata": {},
   "outputs": [
    {
     "name": "stderr",
     "output_type": "stream",
     "text": [
      "/home/ggarnier/Documents/project/inverse-neural-galerkin/src/lib/neural_network.py:9: UserWarning: The neural network has been initiated with random theta\n",
      "  warnings.warn(\"The neural network has been initiated with random theta\")\n"
     ]
    }
   ],
   "source": [
    "torch.manual_seed(0)\n",
    "d = 1\n",
    "m = 5\n",
    "model = ShallowExp(d, m)\n",
    "\n",
    "x_train = np.linspace(-10, 20, number_of_samples)\n",
    "x_train = torch.from_numpy(x_train).unsqueeze(1)\n",
    "y_true = initCD\n",
    "y_pred = model(x_train) # vectorized "
   ]
  },
  {
   "cell_type": "code",
   "execution_count": 12,
   "id": "89b74dbc-c0d7-490b-8692-d3a0998691d3",
   "metadata": {},
   "outputs": [
    {
     "name": "stdout",
     "output_type": "stream",
     "text": [
      "\n",
      "Training Complete\n",
      "Loss:  tensor(6.7549e-06, dtype=torch.float64, grad_fn=<MseLossBackward0>)\n",
      "Parameter containing:\n",
      "tensor([ 0.1245,  0.3519, -0.2409, -0.2273, -0.0664,  1.4088, -0.1094, -0.4471,\n",
      "         0.7239,  0.9195,  0.5996,  0.6236,  0.7337,  0.5535,  0.5190],\n",
      "       requires_grad=True)\n"
     ]
    }
   ],
   "source": [
    "criterion=torch.nn.MSELoss()\n",
    "optimizer=torch.optim.Adam(model.parameters(),lr=0.01)\n",
    "\n",
    "num_epochs=1000\n",
    "\n",
    "total_acc, total_loss=[], []\n",
    "\n",
    "for epoch in range(num_epochs):\n",
    "    y_pred=model(x_train)\n",
    "    loss = criterion(y_pred,y_true)\n",
    "    loss.backward(retain_graph=True) # back propagation\n",
    "    optimizer.step()\n",
    "    optimizer.zero_grad()\n",
    "\n",
    "print('\\nTraining Complete')\n",
    "print('Loss: ', loss)\n",
    "print(model.theta)\n",
    "theta0 = model.theta"
   ]
  },
  {
   "cell_type": "code",
   "execution_count": 13,
   "id": "67ade27e-c450-494e-b25a-f2f9853792cb",
   "metadata": {},
   "outputs": [
    {
     "data": {
      "image/png": "[encoded data removed]",
      "text/plain": [
       "<Figure size 640x480 with 1 Axes>"
      ]
     },
     "metadata": {},
     "output_type": "display_data"
    }
   ],
   "source": [
    "if d==1:\n",
    "    xv = torch.linspace(-10., 20., number_of_samples)\n",
    "    y_pred = model(xv.unsqueeze(1)).detach().numpy()\n",
    "    plt.plot(xv.numpy(), y_true, label='y true')\n",
    "    plt.plot(xv.numpy(), y_pred, label='y pred')\n",
    "    plt.legend()\n",
    "    plt.grid()\n",
    "else:\n",
    "    print(\"Warning: Plot for d>1 not supported.\")"
   ]
  },
  {
   "cell_type": "code",
   "execution_count": null,
   "id": "81de6e75-8508-40f7-a7ea-f997954b3173",
   "metadata": {},
   "outputs": [],
   "source": [
    "def ODEintegrator(Mapprox, Fapprox, mesh, theta0=None):\n",
    "    \"\"\"\n",
    "    M is a callable class ,st M(theta) is a square matrix  \n",
    "    F same as M, F(theta) is a column vector \n",
    "    dt is the time step\n",
    "    mesh is the mesh \n",
    "    theta0 is a vector (to be converted from ParameterNN ?) obtained by eq (9) \n",
    "    \"\"\"\n",
    "    dt = torch.abs(mesh[1]-mesh[0]) # this can be better\n",
    "\n",
    "    list_theta= []\n",
    "    list_theta.append(theta0.detach().clone())\n",
    "    for k,t in enumerate(mesh[1:]):\n",
    "        print(k)\n",
    "        M = Mapprox(list_theta[-1])\n",
    "        M = M + 0.01 * torch.eye(M.size()[0])   # 0.01 marchait à peut près\n",
    "        F = Fapprox(k, list_theta[-1])\n",
    "        #list_theta.append(list_theta[-1]-dt*torch.linalg.pinv(M) @ F)\n",
    "        list_theta.append(list_theta[-1]-dt*torch.linalg.inv(M) @ F)\n",
    "    print(\"The integrator is done\")\n",
    "    return torch.stack(list_theta).T \n",
    "\n",
    "Mapprox = estimM(d, m, samples)\n",
    "Fapprox = estimF(d, m, NN, kdv, samples)\n",
    "number_of_times = 1000\n",
    "Time_Mesh = torch.linspace(0, 2, number_of_times)\n",
    "allTheta = ODEintegrator(Mapprox, Fapprox, Time_Mesh, theta0)"
   ]
  },
  {
   "cell_type": "code",
   "execution_count": null,
   "id": "eb41fd09-f869-40da-8e3d-8c89e9922f9b",
   "metadata": {},
   "outputs": [],
   "source": [
    "import numpy as np\n",
    "import matplotlib.pyplot as plt\n",
    "\n",
    "\n",
    "Q = torch.rand(number_of_times, number_of_samples)\n",
    "\n",
    "for iter in range(number_of_times):\n",
    "    theta_t = allTheta[:, iter]\n",
    "    model_t = ShallowExp(d,m, theta_t)\n",
    "    y_t = model_t(x_train)\n",
    "    Q[iter, :] = y_t\n",
    "\n",
    "plt.matshow(Q.T.detach().numpy())\n",
    "plt.show()\n",
    "#plt.matshow(Q.detach().numpy(),  cmap ='Greens',\n",
    "#              extent =[0, 4, 20,-10],\n",
    "#              interpolation ='nearest',\n",
    "#               origin ='lower')\n",
    "plt.show()"
   ]
  },
  {
   "cell_type": "code",
   "execution_count": null,
   "id": "a33a03eb-b913-40b6-bb2f-3681e48e99ba",
   "metadata": {},
   "outputs": [],
   "source": [
    "theta_t = allTheta[:, 400]\n",
    "model_t = ShallowExp(d,m, theta_t)\n",
    "y_t = model_t(x_train)\n",
    "\n",
    "plt.plot(x_train.detach().numpy(), y_t.detach().numpy())"
   ]
  },
  {
   "cell_type": "code",
   "execution_count": null,
   "id": "11d6a94c-0dfd-420a-bb47-5a1c99ae569f",
   "metadata": {},
   "outputs": [],
   "source": [
    "f = torch.rand(3,3)\n",
    "f"
   ]
  },
  {
   "cell_type": "code",
   "execution_count": null,
   "id": "ba2fee10-677e-46df-814f-d1edaf4548c0",
   "metadata": {},
   "outputs": [],
   "source": [
    "t = torch.eye(f.size()[0])\n",
    "t"
   ]
  },
  {
   "cell_type": "code",
   "execution_count": null,
   "id": "35a49c74-fb75-40fc-8118-844261e9f23f",
   "metadata": {},
   "outputs": [],
   "source": []
  }
 ],
 "metadata": {
  "kernelspec": {
   "display_name": "Python 3 (ipykernel)",
   "language": "python",
   "name": "python3"
  },
  "language_info": {
   "codemirror_mode": {
    "name": "ipython",
    "version": 3
   },
   "file_extension": ".py",
   "mimetype": "text/x-python",
   "name": "python",
   "nbconvert_exporter": "python",
   "pygments_lexer": "ipython3",
   "version": "3.9.7"
  }
 },
 "nbformat": 4,
 "nbformat_minor": 5
}
