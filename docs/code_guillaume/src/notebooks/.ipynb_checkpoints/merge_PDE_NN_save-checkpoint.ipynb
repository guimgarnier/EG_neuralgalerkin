{
 "cells": [
  {
   "cell_type": "code",
   "execution_count": 30,
   "id": "5b36e4ae-7cb3-487f-b889-a5d38f3e9c50",
   "metadata": {},
   "outputs": [],
   "source": [
    "import os\n",
    "import sys\n",
    "module_path = os.path.abspath(os.path.join('..'))\n",
    "if module_path not in sys.path:\n",
    "    sys.path.append(module_path)\n",
    "module_path = os.path.abspath(os.path.join('../..'))\n",
    "sys.path.append(module_path)\n",
    "\n",
    "import torch\n",
    "import torch.nn as nn\n",
    "import matplotlib.pyplot as plt\n",
    "\n",
    "from lib.neural_network import ShallowExp\n",
    "from lib.PDE import KdV,AllenCahn,AD\n",
    "from lib.measure import MetropolisHastingsSampler"
   ]
  },
  {
   "cell_type": "code",
   "execution_count": 31,
   "id": "fd5e6fec-e7d2-43ba-afd4-68fe0322bd13",
   "metadata": {},
   "outputs": [
    {
     "data": {
      "text/plain": [
       "'2.0.1'"
      ]
     },
     "execution_count": 31,
     "metadata": {},
     "output_type": "execute_result"
    }
   ],
   "source": [
    "torch.__version__"
   ]
  },
  {
   "cell_type": "markdown",
   "id": "b22aeb28-bcc9-40d0-95aa-f3f3e91b8e7c",
   "metadata": {},
   "source": [
    "# Merge PDE & NN"
   ]
  },
  {
   "cell_type": "code",
   "execution_count": 244,
   "id": "cce171c8-525d-45f1-a331-f0d5495c59b8",
   "metadata": {},
   "outputs": [],
   "source": [
    "class Problem:\n",
    "    def __init__(self, name, initial_condition):\n",
    "        self.name = name\n",
    "        self.initial_condition = initial_condition\n",
    "    def evaluate(self, t, x, f):\n",
    "        if name=='KdV':\n",
    "            KDV=KdV(initial_condition)\n",
    "        else:\n",
    "            raise Exception(\"The problem name has not been found in the database\")\n",
    "        \n",
    "\n",
    "class gradNN:\n",
    "    def __init__(self, NN):\n",
    "        self.NN = NN\n",
    "    def return_grad(self, theta, x):\n",
    "        self.NN.w = theta.w\n",
    "        self.NN.c = theta.c\n",
    "        self.NN.b = theta.b\n",
    "        \n",
    "        y_pred = self.NN(x)\n",
    "        grad_c, grad_b, grad_w = torch.autograd.grad(y_pred, (self.NN.c, self.NN.b, self.NN.w), retain_graph=True)\n",
    "        cat = torch.zeros((m, 2+d))\n",
    "        cat[:,0] = grad_c\n",
    "        cat[:,1:d+1] = grad_b\n",
    "        cat[:,d+1] = grad_w\n",
    "        return cat.T.reshape((1, cat.size()[0]*cat.size()[1]))\n",
    "\n",
    "class ParameterNN:\n",
    "    def __init__(self, w, b, c):\n",
    "        self.w = w\n",
    "        self.b = b\n",
    "        self.c = c\n",
    "                \n",
    "\n",
    "class estimF:\n",
    "    def __init__(self, NN, f, weight, samples):\n",
    "        self.NN = NN\n",
    "        self.f = f\n",
    "        self.weight = weight\n",
    "        self.samples = samples\n",
    "\n",
    "    def evaluate(self, t, theta):\n",
    "        self.NN.w = theta.w\n",
    "        self.NN.c = theta.c\n",
    "        self.NN.b = theta.b\n",
    "        \n",
    "        # Compute every U(theta, xi) and return tensor([[value1 at x1], [value2 at x2], ...])\n",
    "        y_pred = torch.tensor([self.NN(x) for x in self.samples])\n",
    "        \n",
    "        # Compute every gradU(theta,xi)\n",
    "        gradU = gradNN(self.NN)\n",
    "        result_grad = torch.zeros(self.samples.size()[0], 2 * m + d * m)\n",
    "        iter = 0\n",
    "        for x in self.samples:\n",
    "            result_grad[iter] = gradU.return_grad(theta, x)\n",
    "            iter += 1\n",
    "            \n",
    "        # Compute f(t,x, U)\n",
    "        \n",
    "            \n",
    "        return result_grad"
   ]
  },
  {
   "cell_type": "code",
   "execution_count": 241,
   "id": "5686af74-98c9-40db-a30c-a449100a7660",
   "metadata": {},
   "outputs": [
    {
     "data": {
      "text/plain": [
       "tensor([[ 0.4087,  0.4087,  0.4087, -0.7732, -0.7732, -0.7732, -0.7314, -0.7314,\n",
       "         -0.7314],\n",
       "        [ 0.6730,  0.6730,  0.6730, -0.8470, -0.8470, -0.8470, -0.5330, -0.5330,\n",
       "         -0.5330],\n",
       "        [ 0.7762,  0.7762,  0.7762, -0.7814, -0.7814, -0.7814, -0.3933, -0.3933,\n",
       "         -0.3933],\n",
       "        [ 0.8960,  0.8960,  0.8960, -0.5938, -0.5938, -0.5938, -0.1968, -0.1968,\n",
       "         -0.1968],\n",
       "        [ 0.9846,  0.9846,  0.9846, -0.2454, -0.2454, -0.2454, -0.0306, -0.0306,\n",
       "         -0.0306]])"
      ]
     },
     "execution_count": 241,
     "metadata": {},
     "output_type": "execute_result"
    }
   ],
   "source": [
    "# Parameters of the input\n",
    "d= 1 # spatial dimension\n",
    "m = 3 # Number of coefficients in the expansion\n",
    "\n",
    "samples = torch.rand(5,1)\n",
    "\n",
    "model = ShallowExp(d, m)\n",
    "\n",
    "# Contruct estimF\n",
    "theta = ParameterNN(nn.Parameter(torch.ones(m)),\n",
    "                    nn.Parameter(torch.ones(m, d)),\n",
    "                    nn.Parameter(torch.ones(m)))\n",
    "\n",
    "Fapprox = estimF(model, 1, 2, samples)\n",
    "Fapprox.evaluate(3, theta)"
   ]
  },
  {
   "cell_type": "code",
   "execution_count": null,
   "id": "786f0a4c-934a-477f-9b12-9d9c3e958712",
   "metadata": {},
   "outputs": [],
   "source": []
  },
  {
   "cell_type": "code",
   "execution_count": null,
   "id": "3a49f990-be66-42a6-b557-b5a5441c90c7",
   "metadata": {},
   "outputs": [],
   "source": []
  }
 ],
 "metadata": {
  "kernelspec": {
   "display_name": "Python 3 (ipykernel)",
   "language": "python",
   "name": "python3"
  },
  "language_info": {
   "codemirror_mode": {
    "name": "ipython",
    "version": 3
   },
   "file_extension": ".py",
   "mimetype": "text/x-python",
   "name": "python",
   "nbconvert_exporter": "python",
   "pygments_lexer": "ipython3",
   "version": "3.9.7"
  }
 },
 "nbformat": 4,
 "nbformat_minor": 5
}
