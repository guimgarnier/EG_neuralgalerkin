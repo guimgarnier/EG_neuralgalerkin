{
 "cells": [
  {
   "cell_type": "code",
   "execution_count": null,
   "metadata": {},
   "outputs": [
    {
     "ename": "",
     "evalue": "",
     "output_type": "error",
     "traceback": [
      "\u001b[1;31mLes cellules en cours d’exécution avec EG_neuralgalerkin nécessitent le package ipykernel.\n",
      "\u001b[1;31mExécutez la commande suivante pour installer 'ipykernel' dans l’environnement Python. \n",
      "\u001b[1;31mCommande : 'conda install -n EG_neuralgalerkin ipykernel --update-deps --force-reinstall'"
     ]
    }
   ],
   "source": [
    "import os\n",
    "import sys\n",
    "\n",
    "module_path = os.path.abspath(os.path.join('..')+'/src')\n",
    "if module_path not in sys.path:\n",
    "    sys.path.append(module_path)"
   ]
  },
  {
   "cell_type": "markdown",
   "metadata": {},
   "source": [
    "# Ansatz\n",
    "\n",
    "In this file, we illustrate the use of the Class ansatz."
   ]
  },
  {
   "cell_type": "code",
   "execution_count": 10,
   "metadata": {},
   "outputs": [],
   "source": [
    "import torch\n",
    "from torch import nn\n",
    "import warnings\n",
    "import config"
   ]
  },
  {
   "cell_type": "code",
   "execution_count": null,
   "metadata": {},
   "outputs": [
    {
     "ename": "",
     "evalue": "",
     "output_type": "error",
     "traceback": [
      "\u001b[1;31mLes cellules en cours d’exécution avec EG_neuralgalerkin nécessitent le package ipykernel.\n",
      "\u001b[1;31mExécutez la commande suivante pour installer 'ipykernel' dans l’environnement Python. \n",
      "\u001b[1;31mCommande : 'conda install -n EG_neuralgalerkin ipykernel --update-deps --force-reinstall'"
     ]
    }
   ],
   "source": [
    "import warnings\n",
    "import torch\n",
    "import torch as tc\n",
    "from torch.func import jacfwd, vmap, grad,jacrev\n",
    "\n",
    "class Ansatz(tc.nn.Module):\n",
    "    \n",
    "    def __init__(self, d, m, theta=None, kind='gaussian'):\n",
    "        \n",
    "        super().__init__()\n",
    "        self.m = m       # model parameter \n",
    "        self.d = d       # dimension of b (same as x)\n",
    "        \n",
    "        # size of theta according to the the model\n",
    "        if kind == 'gaussian':\n",
    "            self.s = 2*m+d*m \n",
    "        elif kind== 'nn':\n",
    "            self.L = 0.5\n",
    "            self.l = 3\n",
    "            self.s = m + m*d * self.l + d * self.l \n",
    "        else:\n",
    "            self.s = 2*m+d*m\n",
    "            warnings.warn(\"The type of network has not The theta parameter has not been initialized\") \n",
    "        \n",
    "        # Dictionary of models \n",
    "        methods = {\n",
    "            'gaussian'        : self.gaussian_x,   # Eq. (16)\n",
    "        }\n",
    "\n",
    "        # Warning : une initialisation à ones fait échouer la minimisation pour theta0 !\n",
    "        self.Theta = tc.rand(self.s,requires_grad=True) #if theta is None else theta\n",
    "        self.theta = tc.nn.Parameter(tc.rand(self.s) if theta is None else theta)\n",
    "         #self.theta = tc.nn.Parameter(2.0*tc.ones(self.s) if theta is None else theta) \n",
    "\n",
    "        # batched derivatives , input are (d,)\n",
    "        self.eval_x    = methods[kind]\n",
    "        self.forward   = vmap(self.eval_x)\n",
    "        self.dx        = vmap(grad(self.eval_x),             in_dims=(0,) )\n",
    "        self.dxx       = vmap(grad(grad(self.eval_x)),       in_dims=(0,) )\n",
    "        self.dxxx      = vmap(grad(grad(grad(self.eval_x))), in_dims=(0,) )\n",
    "\n",
    "        # work in progress\n",
    "        # self.dtheta = vmap(lambda x : autograd(self.eval_x(x), self.theta)[0])\n",
    "\n",
    "        \n",
    "    def splitter_gaussian(self):\n",
    "        c = self.theta[:self.m]\n",
    "        b = self.theta[self.m: self.m+self.m*self.d ].reshape(self.m,self.d)\n",
    "        w = self.theta[self.m+self.m*self.d:]\n",
    "        return (c,b,w)\n",
    "    \n",
    "    def gaussian_x(self, x: tc.Tensor):\n",
    "               \n",
    "       # Input :  a SCALAR x of shape (0,)\n",
    "       # Output : a SCALAR\n",
    "        \n",
    "        c, b, w = self.splitter_gaussian()\n",
    "        return tc.sum(c*tc.exp(-w**2 *(x-b).T**2))  \n",
    "\n",
    "    \n",
    "    \"\"\"\n",
    "    \n",
    "    def forward_t(self, theta, x):\n",
    "        self.theta = theta\n",
    "        c,b,w = self.splitter_gaussian()\n",
    "        diff = x.unsqueeze(2)-b.t().unsqueeze(0) # tensor with shape (npoints,d,m)\n",
    "        distance = torch.norm(diff, dim=1)**2 # tensor of dimension (npoints, m)\n",
    "        exp_factor = torch.exp(-w.unsqueeze(0)**2*distance)\n",
    "        return torch.sum(c.unsqueeze(0)*exp_factor, dim=1).unsqueeze(1) \"\"\"\n",
    "    def forward_t(self, theta, x):\n",
    "        self.Theta = theta.clone()\n",
    "        c,b,w = self.splitter_gaussian1()\n",
    "        #vect=lambda x: (c*tc.exp(-w**2*(x-b)**2)).sum()\n",
    "        #return (c*tc.exp(-w**2*(x-b)**2)).sum()\n",
    "        return tc.sum(c*tc.exp(-w**2*(x-b).T**2))\n",
    "    def grad_theta(self, theta, samples):\n",
    "        self.Theta = theta.clone()\n",
    "        jacobian=jacrev(self.forward_t,argnums=0)(self.Theta, samples)\n",
    "        return jacobian\n",
    "        \n",
    "    def out_prod(self,theta,x):\n",
    "        #self.Theta=theta.clone()\n",
    "        out_p=lambda theta,x_: tc.outer(self.grad_theta(theta,x_),self.grad_theta(theta,x_))\n",
    "        M=vmap((out_p),in_dims=(None,0))(theta,x).detach()\n",
    "        return tc.mean(M,dim=0)\n",
    "    \n",
    "    def __call__(self, x):\n",
    "        return self.forward(x)\n",
    "        "
   ]
  },
  {
   "cell_type": "code",
   "execution_count": 12,
   "metadata": {},
   "outputs": [
    {
     "name": "stdout",
     "output_type": "stream",
     "text": [
      "tensor([[0.3597, 0.2799],\n",
      "        [0.9195, 0.7244],\n",
      "        [0.7365, 0.8386],\n",
      "        [0.0975, 0.9521],\n",
      "        [0.5218, 0.2038],\n",
      "        [0.7214, 0.0835],\n",
      "        [0.3705, 0.5307],\n",
      "        [0.0427, 0.8269],\n",
      "        [0.6966, 0.8319],\n",
      "        [0.6958, 0.7609]])\n"
     ]
    },
    {
     "name": "stderr",
     "output_type": "stream",
     "text": [
      "/tmp/ipykernel_55293/3572027452.py:6: UserWarning: The neural network has been initiated with random theta\n",
      "  warnings.warn(\"The neural network has been initiated with random theta\")\n"
     ]
    },
    {
     "ename": "RuntimeError",
     "evalue": "The size of tensor a (2) must match the size of tensor b (10) at non-singleton dimension 1",
     "output_type": "error",
     "traceback": [
      "\u001b[0;31m---------------------------------------------------------------------------\u001b[0m",
      "\u001b[0;31mRuntimeError\u001b[0m                              Traceback (most recent call last)",
      "Cell \u001b[0;32mIn[12], line 6\u001b[0m\n\u001b[1;32m      4\u001b[0m x_train \u001b[38;5;241m=\u001b[39m torch\u001b[38;5;241m.\u001b[39mrand(\u001b[38;5;241m10\u001b[39m, \u001b[38;5;241m2\u001b[39m)\n\u001b[1;32m      5\u001b[0m \u001b[38;5;28mprint\u001b[39m(x_train)\n\u001b[0;32m----> 6\u001b[0m \u001b[38;5;28mprint\u001b[39m(\u001b[43mmodel\u001b[49m\u001b[43m(\u001b[49m\u001b[43mx_train\u001b[49m\u001b[43m)\u001b[49m)\n",
      "File \u001b[0;32m~/anaconda3/envs/EG_neuralgalerkin/lib/python3.12/site-packages/torch/nn/modules/module.py:1511\u001b[0m, in \u001b[0;36mModule._wrapped_call_impl\u001b[0;34m(self, *args, **kwargs)\u001b[0m\n\u001b[1;32m   1509\u001b[0m     \u001b[38;5;28;01mreturn\u001b[39;00m \u001b[38;5;28mself\u001b[39m\u001b[38;5;241m.\u001b[39m_compiled_call_impl(\u001b[38;5;241m*\u001b[39margs, \u001b[38;5;241m*\u001b[39m\u001b[38;5;241m*\u001b[39mkwargs)  \u001b[38;5;66;03m# type: ignore[misc]\u001b[39;00m\n\u001b[1;32m   1510\u001b[0m \u001b[38;5;28;01melse\u001b[39;00m:\n\u001b[0;32m-> 1511\u001b[0m     \u001b[38;5;28;01mreturn\u001b[39;00m \u001b[38;5;28;43mself\u001b[39;49m\u001b[38;5;241;43m.\u001b[39;49m\u001b[43m_call_impl\u001b[49m\u001b[43m(\u001b[49m\u001b[38;5;241;43m*\u001b[39;49m\u001b[43margs\u001b[49m\u001b[43m,\u001b[49m\u001b[43m \u001b[49m\u001b[38;5;241;43m*\u001b[39;49m\u001b[38;5;241;43m*\u001b[39;49m\u001b[43mkwargs\u001b[49m\u001b[43m)\u001b[49m\n",
      "File \u001b[0;32m~/anaconda3/envs/EG_neuralgalerkin/lib/python3.12/site-packages/torch/nn/modules/module.py:1520\u001b[0m, in \u001b[0;36mModule._call_impl\u001b[0;34m(self, *args, **kwargs)\u001b[0m\n\u001b[1;32m   1515\u001b[0m \u001b[38;5;66;03m# If we don't have any hooks, we want to skip the rest of the logic in\u001b[39;00m\n\u001b[1;32m   1516\u001b[0m \u001b[38;5;66;03m# this function, and just call forward.\u001b[39;00m\n\u001b[1;32m   1517\u001b[0m \u001b[38;5;28;01mif\u001b[39;00m \u001b[38;5;129;01mnot\u001b[39;00m (\u001b[38;5;28mself\u001b[39m\u001b[38;5;241m.\u001b[39m_backward_hooks \u001b[38;5;129;01mor\u001b[39;00m \u001b[38;5;28mself\u001b[39m\u001b[38;5;241m.\u001b[39m_backward_pre_hooks \u001b[38;5;129;01mor\u001b[39;00m \u001b[38;5;28mself\u001b[39m\u001b[38;5;241m.\u001b[39m_forward_hooks \u001b[38;5;129;01mor\u001b[39;00m \u001b[38;5;28mself\u001b[39m\u001b[38;5;241m.\u001b[39m_forward_pre_hooks\n\u001b[1;32m   1518\u001b[0m         \u001b[38;5;129;01mor\u001b[39;00m _global_backward_pre_hooks \u001b[38;5;129;01mor\u001b[39;00m _global_backward_hooks\n\u001b[1;32m   1519\u001b[0m         \u001b[38;5;129;01mor\u001b[39;00m _global_forward_hooks \u001b[38;5;129;01mor\u001b[39;00m _global_forward_pre_hooks):\n\u001b[0;32m-> 1520\u001b[0m     \u001b[38;5;28;01mreturn\u001b[39;00m \u001b[43mforward_call\u001b[49m\u001b[43m(\u001b[49m\u001b[38;5;241;43m*\u001b[39;49m\u001b[43margs\u001b[49m\u001b[43m,\u001b[49m\u001b[43m \u001b[49m\u001b[38;5;241;43m*\u001b[39;49m\u001b[38;5;241;43m*\u001b[39;49m\u001b[43mkwargs\u001b[49m\u001b[43m)\u001b[49m\n\u001b[1;32m   1522\u001b[0m \u001b[38;5;28;01mtry\u001b[39;00m:\n\u001b[1;32m   1523\u001b[0m     result \u001b[38;5;241m=\u001b[39m \u001b[38;5;28;01mNone\u001b[39;00m\n",
      "Cell \u001b[0;32mIn[11], line 19\u001b[0m, in \u001b[0;36mAnsatz.forward\u001b[0;34m(self, x)\u001b[0m\n\u001b[1;32m     17\u001b[0m \u001b[38;5;28;01mdef\u001b[39;00m \u001b[38;5;21mforward\u001b[39m(\u001b[38;5;28mself\u001b[39m, x):\n\u001b[1;32m     18\u001b[0m     c,b,w \u001b[38;5;241m=\u001b[39m \u001b[38;5;28mself\u001b[39m\u001b[38;5;241m.\u001b[39msplitter()\n\u001b[0;32m---> 19\u001b[0m     diff \u001b[38;5;241m=\u001b[39m \u001b[43mx\u001b[49m\u001b[38;5;241;43m.\u001b[39;49m\u001b[43munsqueeze\u001b[49m\u001b[43m(\u001b[49m\u001b[38;5;241;43m2\u001b[39;49m\u001b[43m)\u001b[49m\u001b[38;5;241;43m-\u001b[39;49m\u001b[43mb\u001b[49m\u001b[38;5;241;43m.\u001b[39;49m\u001b[43mt\u001b[49m\u001b[43m(\u001b[49m\u001b[43m)\u001b[49m\u001b[38;5;241;43m.\u001b[39;49m\u001b[43munsqueeze\u001b[49m\u001b[43m(\u001b[49m\u001b[38;5;241;43m0\u001b[39;49m\u001b[43m)\u001b[49m \u001b[38;5;66;03m# tensor with shape (npoints,d,m)\u001b[39;00m\n\u001b[1;32m     20\u001b[0m     distance \u001b[38;5;241m=\u001b[39m torch\u001b[38;5;241m.\u001b[39mnorm(diff, dim\u001b[38;5;241m=\u001b[39m\u001b[38;5;241m1\u001b[39m)\u001b[38;5;241m*\u001b[39m\u001b[38;5;241m*\u001b[39m\u001b[38;5;241m2\u001b[39m \u001b[38;5;66;03m# tensor of dimension (npoints, m)\u001b[39;00m\n\u001b[1;32m     21\u001b[0m     exp_factor \u001b[38;5;241m=\u001b[39m torch\u001b[38;5;241m.\u001b[39mexp(\u001b[38;5;241m-\u001b[39mw\u001b[38;5;241m.\u001b[39munsqueeze(\u001b[38;5;241m0\u001b[39m)\u001b[38;5;241m*\u001b[39m\u001b[38;5;241m*\u001b[39m\u001b[38;5;241m2\u001b[39m\u001b[38;5;241m*\u001b[39mdistance)\n",
      "\u001b[0;31mRuntimeError\u001b[0m: The size of tensor a (2) must match the size of tensor b (10) at non-singleton dimension 1"
     ]
    }
   ],
   "source": [
    "d = 2\n",
    "m = 10\n",
    "model = Ansatz(d,m)\n",
    "x_train = torch.rand(10, 2)\n",
    "print(x_train)\n",
    "print(model(x_train))"
   ]
  },
  {
   "cell_type": "code",
   "execution_count": null,
   "metadata": {},
   "outputs": [],
   "source": []
  }
 ],
 "metadata": {
  "kernelspec": {
   "display_name": "EG_neuralgalerkin",
   "language": "python",
   "name": "python3"
  },
  "language_info": {
   "codemirror_mode": {
    "name": "ipython",
    "version": 3
   },
   "file_extension": ".py",
   "mimetype": "text/x-python",
   "name": "python",
   "nbconvert_exporter": "python",
   "pygments_lexer": "ipython3",
   "version": "3.12.2"
  }
 },
 "nbformat": 4,
 "nbformat_minor": 2
}
