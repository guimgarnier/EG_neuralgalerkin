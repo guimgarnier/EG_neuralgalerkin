{
 "cells": [
  {
   "cell_type": "code",
   "execution_count": 2,
   "metadata": {},
   "outputs": [],
   "source": [
    "import os\n",
    "import sys\n",
    "\n",
    "module_path = os.path.abspath(os.path.join('..')+'/src')\n",
    "if module_path not in sys.path:\n",
    "    sys.path.append(module_path)\n",
    "\n",
    "import torch\n",
    "from torch import nn\n",
    "import warnings\n",
    "import config\n",
    "import warnings\n",
    "import torch\n",
    "import torch as tc\n",
    "from torch.func import jacfwd, vmap, grad,jacrev\n",
    "from models.ansatz import Ansatz\n",
    "from models.PDE.KdV import KdV"
   ]
  },
  {
   "cell_type": "code",
   "execution_count": 4,
   "metadata": {},
   "outputs": [
    {
     "data": {
      "text/plain": [
       "tensor([2, 3, 2])"
      ]
     },
     "execution_count": 4,
     "metadata": {},
     "output_type": "execute_result"
    }
   ],
   "source": []
  },
  {
   "cell_type": "code",
   "execution_count": null,
   "metadata": {},
   "outputs": [],
   "source": [
    "class EDO():\n",
    "    def __init__(self, ansatz = 'gaussian', pde=KdV):\n",
    "        self.EDP = models.PDE.pde\n",
    "\n",
    "    def ansa(self,theta,x):\n",
    "        model = Ansatz(d,m,theta)(x)\n",
    "        return model\n",
    "\n",
    "    def grad_theta(self, theta, x):\n",
    "        return jacrev(ansa,argnums=0)(theta,x)\n",
    "    \n",
    "    def matrixM(self,theta,x):\n",
    "        n = len(x)\n",
    "        matU = grad_theta(theta,x)\n",
    "        matM = torch.kron(matU[0,:],matU[0,:]).reshape(30,30)\n",
    "        for i in range(1,n):\n",
    "             matM = matM+  torch.kron(matU[i,:],matU[i,:]).reshape(30,30)\n",
    "        return matM/n \n",
    "\n",
    "    def vecF(self,theta,x):\n",
    "        model = ansa(theta,x)\n",
    "        td = self.EDP.f(x,ansa)\n",
    "        n = len(x)\n",
    "        matU = grad_theta(theta,x)\n",
    "        vec = matU[0,:]*f[0,:]\n",
    "        for i in range(1,n):\n",
    "            vec = vec + matU[i,:]*f[i,:]\n",
    "        return vec/n\n",
    "        \n",
    "\n"
   ]
  }
 ],
 "metadata": {
  "kernelspec": {
   "display_name": "base",
   "language": "python",
   "name": "python3"
  },
  "language_info": {
   "codemirror_mode": {
    "name": "ipython",
    "version": 3
   },
   "file_extension": ".py",
   "mimetype": "text/x-python",
   "name": "python",
   "nbconvert_exporter": "python",
   "pygments_lexer": "ipython3",
   "version": "3.9.13"
  }
 },
 "nbformat": 4,
 "nbformat_minor": 2
}
