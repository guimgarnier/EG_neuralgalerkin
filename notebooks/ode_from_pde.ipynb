{
 "cells": [
  {
   "cell_type": "code",
   "execution_count": 1,
   "metadata": {},
   "outputs": [],
   "source": [
    "import os\n",
    "import sys\n",
    "\n",
    "module_path = os.path.abspath(os.path.join('..')+'/src')\n",
    "if module_path not in sys.path:\n",
    "    sys.path.append(module_path)\n",
    "\n",
    "import torch\n",
    "from torch import nn\n",
    "import warnings\n",
    "import config\n",
    "import warnings\n",
    "import torch\n",
    "import torch as tc\n",
    "from torch.func import jacfwd, vmap, grad,jacrev\n",
    "from models.ansatz import Ansatz"
   ]
  },
  {
   "cell_type": "code",
   "execution_count": null,
   "metadata": {},
   "outputs": [],
   "source": [
    "class EDO():\n",
    "    def __init__(self, ansatz = 'gaussian', pde='KdV'):\n",
    "        pass\n",
    "\n",
    "    def ansa(self,theta,x):\n",
    "        model = Ansatz(d,m,theta)(x)\n",
    "        return model\n",
    "    def grad_theta(self, theta, x):\n",
    "        model = Ansatz(d,m,theta)\n",
    "        u = lambda theta, x = Ansatz(d,m,theta)(x)\n",
    "        nabla_u_theta = jacrev \n",
    "        return nabla_u_theta\n",
    "    def \n",
    "        \n",
    "\n"
   ]
  }
 ],
 "metadata": {
  "kernelspec": {
   "display_name": "base",
   "language": "python",
   "name": "python3"
  },
  "language_info": {
   "codemirror_mode": {
    "name": "ipython",
    "version": 3
   },
   "file_extension": ".py",
   "mimetype": "text/x-python",
   "name": "python",
   "nbconvert_exporter": "python",
   "pygments_lexer": "ipython3",
   "version": "3.9.13"
  }
 },
 "nbformat": 4,
 "nbformat_minor": 2
}
