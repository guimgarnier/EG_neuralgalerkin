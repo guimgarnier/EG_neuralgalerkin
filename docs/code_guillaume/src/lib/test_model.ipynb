{
 "cells": [
  {
   "cell_type": "code",
   "execution_count": 2,
   "metadata": {},
   "outputs": [],
   "source": [
    "import os\n",
    "import sys\n",
    "\"\"\" module_path = os.path.abspath(os.path.join('..'))\n",
    "if module_path not in sys.path:\n",
    "    sys.path.append(module_path)\n",
    "module_path = os.path.abspath(os.path.join('../..'))\n",
    "sys.path.append(module_path) \"\"\"\n",
    "import warnings\n",
    "import torch\n",
    "import torch as tc\n",
    "from torch.func import jacfwd, vmap, grad,jacrev\n",
    "\n",
    "from Model import Model\n",
    "from matrixM import MatrixM\n",
    "from vecF import VecF\n",
    "from PDE import KdV\n",
    "import numpy as np\n",
    "import scipy.integrate "
   ]
  },
  {
   "cell_type": "markdown",
   "metadata": {},
   "source": [
    "## Verification of the Matrix"
   ]
  },
  {
   "cell_type": "code",
   "execution_count": 3,
   "metadata": {},
   "outputs": [
    {
     "name": "stdout",
     "output_type": "stream",
     "text": [
      "tensor([[ 0.9603,  0.9126,  0.0318,  0.1655, -0.0613, -0.1496],\n",
      "        [ 0.9126,  0.8703,  0.0289,  0.1494, -0.0545, -0.1330],\n",
      "        [ 0.0318,  0.0289,  0.0018,  0.0096, -0.0038, -0.0092],\n",
      "        [ 0.1655,  0.1494,  0.0096,  0.0521, -0.0204, -0.0499],\n",
      "        [-0.0613, -0.0545, -0.0038, -0.0204,  0.0086,  0.0210],\n",
      "        [-0.1496, -0.1330, -0.0092, -0.0499,  0.0210,  0.0513]])\n"
     ]
    }
   ],
   "source": [
    "tc.manual_seed(0)\n",
    "d = 1\n",
    "m = 2\n",
    "s=2*m+d*m \n",
    "theta=tc.rand(s,requires_grad=True)\n",
    "pde = KdV(T = 4, xmin=-10, xmax=20, numberTimes=300)\n",
    "\n",
    "#print(theta)\n",
    "NN = Model(d,m,theta)\n",
    "#samples = torch.rand(10, d)\n",
    "samples=tc.tensor([[0.0223],[0.1689],[0.2939],[0.5185],[0.6977],[0.8000],[0.1610],[0.2823],[0.6816],[0.9152]])\n",
    "result_grad = NN.grad_theta(theta, samples[0])\n",
    "result_out = NN.out_prod(theta, samples)\n",
    "\n",
    "print(result_out)"
   ]
  },
  {
   "cell_type": "code",
   "execution_count": 4,
   "metadata": {},
   "outputs": [
    {
     "name": "stdout",
     "output_type": "stream",
     "text": [
      "tensor([[ 0.9603,  0.9126,  0.0318,  0.1655, -0.0613, -0.1496],\n",
      "        [ 0.9126,  0.8703,  0.0289,  0.1494, -0.0545, -0.1330],\n",
      "        [ 0.0318,  0.0289,  0.0018,  0.0096, -0.0038, -0.0092],\n",
      "        [ 0.1655,  0.1494,  0.0096,  0.0521, -0.0204, -0.0499],\n",
      "        [-0.0613, -0.0545, -0.0038, -0.0204,  0.0086,  0.0210],\n",
      "        [-0.1496, -0.1330, -0.0092, -0.0499,  0.0210,  0.0513]],\n",
      "       grad_fn=<MeanBackward1>)\n"
     ]
    }
   ],
   "source": [
    "vect_gradM =lambda theta,samples:vmap(NN.grad_theta,in_dims=(None,0))(theta,samples)\n",
    "Matric=vect_gradM(theta,samples)\n",
    "Out_Matrix=tc.zeros(len(samples),len(theta),len(theta))\n",
    "for k in range(len(samples)):\n",
    "    Out_Matrix[k]=tc.outer(Matric[k],Matric[k])\n",
    "print(Out_Matrix.mean(dim=0))\n"
   ]
  },
  {
   "cell_type": "markdown",
   "metadata": {},
   "source": [
    "## Verification of Vector"
   ]
  },
  {
   "cell_type": "code",
   "execution_count": 5,
   "metadata": {},
   "outputs": [
    {
     "data": {
      "text/plain": [
       "' vect_grad =lambda theta,samples:vmap(NN.grad_theta,in_dims=(None,0))(theta,samples).T\\nvect_result=vect_grad(theta,samples)\\nprint(vect_result.shape)\\nF=pde.f(1,samples.squeeze(1),NN)\\nprint(F.shape)\\nRe=vect_result*F\\nprint(Re.mean(dim=1)) '"
      ]
     },
     "execution_count": 5,
     "metadata": {},
     "output_type": "execute_result"
    }
   ],
   "source": [
    "\"\"\" vect_grad =lambda theta,samples:vmap(NN.grad_theta,in_dims=(None,0))(theta,samples).T\n",
    "vect_result=vect_grad(theta,samples)\n",
    "print(vect_result.shape)\n",
    "F=pde.f(1,samples.squeeze(1),NN)\n",
    "print(F.shape)\n",
    "Re=vect_result*F\n",
    "print(Re.mean(dim=1)) \"\"\""
   ]
  },
  {
   "cell_type": "code",
   "execution_count": 6,
   "metadata": {},
   "outputs": [
    {
     "name": "stdout",
     "output_type": "stream",
     "text": [
      "tensor([[0.0223],\n",
      "        [0.1689],\n",
      "        [0.2939],\n",
      "        [0.5185],\n",
      "        [0.6977],\n",
      "        [0.8000],\n",
      "        [0.1610],\n",
      "        [0.2823],\n",
      "        [0.6816],\n",
      "        [0.9152]])\n",
      "tensor([0.4963, 0.7682, 0.0885, 0.1320, 0.3074, 0.6341], requires_grad=True)\n"
     ]
    }
   ],
   "source": [
    "print(samples)\n",
    "print(theta)"
   ]
  },
  {
   "cell_type": "code",
   "execution_count": 7,
   "metadata": {},
   "outputs": [
    {
     "name": "stdout",
     "output_type": "stream",
     "text": [
      "tensor([ 0.9788,  0.8870,  0.0554,  0.3012, -0.1169, -0.2855])\n"
     ]
    }
   ],
   "source": [
    "t=1\n",
    "VF=VecF(pde.d,NN.m,pde.f,samples)\n",
    "Vect_F=VF(t,theta)\n",
    "print(Vect_F)\n"
   ]
  },
  {
   "cell_type": "code",
   "execution_count": 8,
   "metadata": {},
   "outputs": [
    {
     "data": {
      "text/plain": [
       "tensor([ 1.3149,  1.9214, -0.1390,  0.0287,  0.6905,  1.6718],\n",
       "       grad_fn=<SubBackward0>)"
      ]
     },
     "execution_count": 8,
     "metadata": {},
     "output_type": "execute_result"
    }
   ],
   "source": [
    "pde.f(t,theta,NN)"
   ]
  },
  {
   "cell_type": "code",
   "execution_count": 11,
   "metadata": {},
   "outputs": [
    {
     "name": "stdout",
     "output_type": "stream",
     "text": [
      "float32\n"
     ]
    }
   ],
   "source": [
    "def function_f(t,y):\n",
    "    return y.dot(y)+t*y.dot(y**2)\n",
    "t=0.2\n",
    "y=tc.rand(3)\n",
    "Y=function_f(t,y).numpy()\n",
    "print(Y.dtype)"
   ]
  },
  {
   "cell_type": "code",
   "execution_count": null,
   "metadata": {},
   "outputs": [],
   "source": []
  }
 ],
 "metadata": {
  "kernelspec": {
   "display_name": "Python 3",
   "language": "python",
   "name": "python3"
  },
  "language_info": {
   "codemirror_mode": {
    "name": "ipython",
    "version": 3
   },
   "file_extension": ".py",
   "mimetype": "text/x-python",
   "name": "python",
   "nbconvert_exporter": "python",
   "pygments_lexer": "ipython3",
   "version": "3.8.10"
  },
  "orig_nbformat": 4
 },
 "nbformat": 4,
 "nbformat_minor": 2
}
