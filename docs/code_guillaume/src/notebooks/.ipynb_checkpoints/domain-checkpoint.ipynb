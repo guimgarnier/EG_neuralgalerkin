{
 "cells": [
  {
   "cell_type": "code",
   "execution_count": 1,
   "id": "46c986c0",
   "metadata": {},
   "outputs": [],
   "source": [
    "import os\n",
    "import sys\n",
    "module_path = os.path.abspath(os.path.join('..'))\n",
    "if module_path not in sys.path:\n",
    "    sys.path.append(module_path)\n",
    "module_path = os.path.abspath(os.path.join('../..'))\n",
    "sys.path.append(module_path)\n",
    "\n",
    "from itertools import product\n",
    "import torch\n",
    "\n",
    "# Import config, and modules from lib\n",
    "from config import data_dir, results_dir, device\n",
    "from lib.domain import Bounds, Domain1d, in_domain1d, in_domain, sample_domain"
   ]
  },
  {
   "cell_type": "code",
   "execution_count": 2,
   "id": "2a588418",
   "metadata": {},
   "outputs": [
    {
     "data": {
      "text/plain": [
       "PosixPath('/home/ggarnier/Documents/project/inverse-neural-galerkin/data')"
      ]
     },
     "execution_count": 2,
     "metadata": {},
     "output_type": "execute_result"
    }
   ],
   "source": [
    "# print path to data folder\n",
    "data_dir"
   ]
  },
  {
   "cell_type": "code",
   "execution_count": 3,
   "id": "75af5f79",
   "metadata": {
    "collapsed": true,
    "jupyter": {
     "outputs_hidden": true
    },
    "tags": []
   },
   "outputs": [
    {
     "data": {
      "text/plain": [
       "PosixPath('/home/ggarnier/Documents/project/inverse-neural-galerkin/results')"
      ]
     },
     "execution_count": 3,
     "metadata": {},
     "output_type": "execute_result"
    }
   ],
   "source": [
    "# print path to results folder\n",
    "results_dir"
   ]
  },
  {
   "cell_type": "markdown",
   "id": "2e1bcaca",
   "metadata": {},
   "source": [
    "# Example of how to define and work with a domain"
   ]
  },
  {
   "cell_type": "code",
   "execution_count": 4,
   "id": "2261916e",
   "metadata": {},
   "outputs": [],
   "source": [
    "# Create a 2d domain where the variables are x, y. Example: (x, y)\\in [-1,1]x[-2, 3]\n",
    "dx = Domain1d(\"x\", Bounds(-3., -1.))\n",
    "dy = Domain1d(\"y\", Bounds(6., 10.))\n",
    "domain = {d.name: d for d in [dx, dy]}"
   ]
  },
  {
   "cell_type": "code",
   "execution_count": 5,
   "id": "9dfa5cca",
   "metadata": {},
   "outputs": [
    {
     "data": {
      "text/plain": [
       "True"
      ]
     },
     "execution_count": 5,
     "metadata": {},
     "output_type": "execute_result"
    }
   ],
   "source": [
    "# check if a point is in the domain\n",
    "p = [-1, 10]\n",
    "in_domain(domain, p)"
   ]
  },
  {
   "cell_type": "markdown",
   "id": "1b6bbec7",
   "metadata": {},
   "source": [
    "# Sample following uniform measure: TODO "
   ]
  },
  {
   "cell_type": "code",
   "execution_count": 6,
   "id": "edfafadf",
   "metadata": {},
   "outputs": [],
   "source": [
    "sampling_strategy = {var_name: \"grid\" for var_name in domain.keys()} # [\"random\", \"grid\"]\n",
    "num_points_per_axis = {var_name: 5 for var_name in domain.keys()}\n",
    "samples_domain = sample_domain(domain, sampling_strategy, num_points_per_axis)"
   ]
  },
  {
   "cell_type": "code",
   "execution_count": 7,
   "id": "859f6293",
   "metadata": {},
   "outputs": [
    {
     "name": "stdout",
     "output_type": "stream",
     "text": [
      "tensor([-3.,  6.])\n",
      "tensor([-3.,  7.])\n",
      "tensor([-3.,  8.])\n",
      "tensor([-3.,  9.])\n",
      "tensor([-3., 10.])\n",
      "tensor([-2.5000,  6.0000])\n",
      "tensor([-2.5000,  7.0000])\n",
      "tensor([-2.5000,  8.0000])\n",
      "tensor([-2.5000,  9.0000])\n",
      "tensor([-2.5000, 10.0000])\n",
      "tensor([-2.,  6.])\n",
      "tensor([-2.,  7.])\n",
      "tensor([-2.,  8.])\n",
      "tensor([-2.,  9.])\n",
      "tensor([-2., 10.])\n",
      "tensor([-1.5000,  6.0000])\n",
      "tensor([-1.5000,  7.0000])\n",
      "tensor([-1.5000,  8.0000])\n",
      "tensor([-1.5000,  9.0000])\n",
      "tensor([-1.5000, 10.0000])\n",
      "tensor([-1.,  6.])\n",
      "tensor([-1.,  7.])\n",
      "tensor([-1.,  8.])\n",
      "tensor([-1.,  9.])\n",
      "tensor([-1., 10.])\n"
     ]
    }
   ],
   "source": [
    "for point in samples_domain:\n",
    "    print(point)"
   ]
  },
  {
   "cell_type": "code",
   "execution_count": null,
   "id": "3f0833db-872a-45a0-8a09-ffc2d301297b",
   "metadata": {},
   "outputs": [],
   "source": []
  }
 ],
 "metadata": {
  "kernelspec": {
   "display_name": "Python 3 (ipykernel)",
   "language": "python",
   "name": "python3"
  },
  "language_info": {
   "codemirror_mode": {
    "name": "ipython",
    "version": 3
   },
   "file_extension": ".py",
   "mimetype": "text/x-python",
   "name": "python",
   "nbconvert_exporter": "python",
   "pygments_lexer": "ipython3",
   "version": "3.9.7"
  }
 },
 "nbformat": 4,
 "nbformat_minor": 5
}
