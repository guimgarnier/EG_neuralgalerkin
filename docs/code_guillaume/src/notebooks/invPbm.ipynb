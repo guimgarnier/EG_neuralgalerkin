{
 "cells": [
  {
   "cell_type": "markdown",
   "metadata": {},
   "source": [
    "# Inverse problem"
   ]
  },
  {
   "cell_type": "code",
   "execution_count": 3,
   "metadata": {},
   "outputs": [
    {
     "name": "stdout",
     "output_type": "stream",
     "text": [
      "['/home/ggarnier/research/inverse-neural-galerkin/inverse-neural-galerkin/src/notebooks', '/home/ggarnier/anaconda3/envs/inverse-neural-galerkin/lib/python311.zip', '/home/ggarnier/anaconda3/envs/inverse-neural-galerkin/lib/python3.11', '/home/ggarnier/anaconda3/envs/inverse-neural-galerkin/lib/python3.11/lib-dynload', '', '/home/ggarnier/anaconda3/envs/inverse-neural-galerkin/lib/python3.11/site-packages', '/home/ggarnier/research/inverse-neural-galerkin/inverse-neural-galerkin/src', '/home/ggarnier/research/inverse-neural-galerkin/inverse-neural-galerkin', '/home/ggarnier/research/inverse-neural-galerkin/inverse-neural-galerkin']\n",
      "['/home/ggarnier/research/inverse-neural-galerkin/inverse-neural-galerkin/src/notebooks', '/home/ggarnier/anaconda3/envs/inverse-neural-galerkin/lib/python311.zip', '/home/ggarnier/anaconda3/envs/inverse-neural-galerkin/lib/python3.11', '/home/ggarnier/anaconda3/envs/inverse-neural-galerkin/lib/python3.11/lib-dynload', '', '/home/ggarnier/anaconda3/envs/inverse-neural-galerkin/lib/python3.11/site-packages', '/home/ggarnier/research/inverse-neural-galerkin/inverse-neural-galerkin/src', '/home/ggarnier/research/inverse-neural-galerkin/inverse-neural-galerkin', '/home/ggarnier/research/inverse-neural-galerkin/inverse-neural-galerkin']\n",
      "['/home/ggarnier/research/inverse-neural-galerkin/inverse-neural-galerkin/src/notebooks', '/home/ggarnier/anaconda3/envs/inverse-neural-galerkin/lib/python311.zip', '/home/ggarnier/anaconda3/envs/inverse-neural-galerkin/lib/python3.11', '/home/ggarnier/anaconda3/envs/inverse-neural-galerkin/lib/python3.11/lib-dynload', '', '/home/ggarnier/anaconda3/envs/inverse-neural-galerkin/lib/python3.11/site-packages', '/home/ggarnier/research/inverse-neural-galerkin/inverse-neural-galerkin/src', '/home/ggarnier/research/inverse-neural-galerkin/inverse-neural-galerkin', '/home/ggarnier/research/inverse-neural-galerkin/inverse-neural-galerkin', '/home/ggarnier/research/inverse-neural-galerkin/inverse-neural-galerkin']\n"
     ]
    },
    {
     "ename": "ModuleNotFoundError",
     "evalue": "No module named 'ode'",
     "output_type": "error",
     "traceback": [
      "\u001b[0;31m---------------------------------------------------------------------------\u001b[0m",
      "\u001b[0;31mModuleNotFoundError\u001b[0m                       Traceback (most recent call last)",
      "Cell \u001b[0;32mIn[3], line 16\u001b[0m\n\u001b[1;32m     13\u001b[0m \u001b[39mimport\u001b[39;00m \u001b[39mmatplotlib\u001b[39;00m\u001b[39m.\u001b[39;00m\u001b[39mpyplot\u001b[39;00m \u001b[39mas\u001b[39;00m \u001b[39mplt\u001b[39;00m\n\u001b[1;32m     15\u001b[0m \u001b[39mimport\u001b[39;00m \u001b[39mlib\u001b[39;00m\u001b[39m.\u001b[39;00m\u001b[39mode\u001b[39;00m \u001b[39mas\u001b[39;00m \u001b[39mode\u001b[39;00m\n\u001b[0;32m---> 16\u001b[0m \u001b[39mfrom\u001b[39;00m \u001b[39mlib\u001b[39;00m\u001b[39m.\u001b[39;00m\u001b[39mNeuralGalScheme\u001b[39;00m \u001b[39mimport\u001b[39;00m NeurGalScheme\n\u001b[1;32m     17\u001b[0m \u001b[39mfrom\u001b[39;00m \u001b[39mlib\u001b[39;00m\u001b[39m.\u001b[39;00m\u001b[39mPDE\u001b[39;00m \u001b[39mimport\u001b[39;00m KdV, AC\n\u001b[1;32m     18\u001b[0m \u001b[39mimport\u001b[39;00m \u001b[39mtime\u001b[39;00m\n",
      "File \u001b[0;32m~/research/inverse-neural-galerkin/inverse-neural-galerkin/src/lib/NeuralGalScheme.py:1\u001b[0m\n\u001b[0;32m----> 1\u001b[0m \u001b[39mfrom\u001b[39;00m \u001b[39mode\u001b[39;00m \u001b[39mimport\u001b[39;00m Ode\n\u001b[1;32m      2\u001b[0m \u001b[39m#from model import Model\u001b[39;00m\n\u001b[1;32m      3\u001b[0m \u001b[39mfrom\u001b[39;00m \u001b[39mModel\u001b[39;00m \u001b[39mimport\u001b[39;00m Model\n",
      "\u001b[0;31mModuleNotFoundError\u001b[0m: No module named 'ode'"
     ]
    }
   ],
   "source": [
    "import os\n",
    "import sys\n",
    "module_path = os.path.abspath(os.path.join('..'))\n",
    "print(sys.path)\n",
    "if module_path not in sys.path:\n",
    "    sys.path.append(module_path)\n",
    "print(sys.path)\n",
    "module_path = os.path.abspath(os.path.join('../..'))\n",
    "sys.path.append(module_path)\n",
    "print(sys.path)\n",
    "\n",
    "import torch\n",
    "import matplotlib.pyplot as plt\n",
    "\n",
    "import lib.ode as ode\n",
    "from lib.NeuralGalScheme import NeurGalScheme\n",
    "from lib.PDE import KdV, AC\n",
    "import time"
   ]
  },
  {
   "cell_type": "markdown",
   "metadata": {},
   "source": [
    "Main Code"
   ]
  },
  {
   "cell_type": "code",
   "execution_count": 2,
   "metadata": {},
   "outputs": [
    {
     "ename": "NameError",
     "evalue": "name 'time' is not defined",
     "output_type": "error",
     "traceback": [
      "\u001b[0;31m---------------------------------------------------------------------------\u001b[0m",
      "\u001b[0;31mNameError\u001b[0m                                 Traceback (most recent call last)",
      "Cell \u001b[0;32mIn[2], line 1\u001b[0m\n\u001b[0;32m----> 1\u001b[0m start \u001b[39m=\u001b[39m time\u001b[39m.\u001b[39mtime()\n\u001b[1;32m      3\u001b[0m pde\u001b[39m=\u001b[39m KdV(T \u001b[39m=\u001b[39m \u001b[39m4\u001b[39m, xmin\u001b[39m=\u001b[39m\u001b[39m-\u001b[39m\u001b[39m10\u001b[39m, xmax\u001b[39m=\u001b[39m\u001b[39m20\u001b[39m, numberTimes\u001b[39m=\u001b[39m\u001b[39m2000\u001b[39m)\n\u001b[1;32m      4\u001b[0m pb  \u001b[39m=\u001b[39m NeurGalScheme(pde,size_random_samples\u001b[39m=\u001b[39m\u001b[39m1000\u001b[39m,m\u001b[39m=\u001b[39m\u001b[39m10\u001b[39m, kind\u001b[39m=\u001b[39m\u001b[39m'\u001b[39m\u001b[39mgaussian\u001b[39m\u001b[39m'\u001b[39m, odekind\u001b[39m=\u001b[39m\u001b[39m'\u001b[39m\u001b[39mrk4\u001b[39m\u001b[39m'\u001b[39m)\n",
      "\u001b[0;31mNameError\u001b[0m: name 'time' is not defined"
     ]
    }
   ],
   "source": [
    "    start = time.time()\n",
    "\n",
    "    pde= KdV(T = 4, xmin=-10, xmax=20, numberTimes=2000)\n",
    "    pb  = NeurGalScheme(pde,size_random_samples=1000,m=10, kind='gaussian', odekind='rk4')\n",
    "    pb.run()\n",
    "    \n",
    "    end = time.time()\n",
    "    print('Executed in', end-start)\n",
    "    \n",
    "    pb.show_results()"
   ]
  },
  {
   "cell_type": "code",
   "execution_count": null,
   "metadata": {},
   "outputs": [],
   "source": [
    "    # Find lambda 0\n",
    "    number_of_sensors = 100 \n",
    "    x_sensor = tc.linspace(self.pde.xmin, self.pde.xmax, number_of_sensors).unsqueeze(1)\n",
    "    y_sensor = self.pde.u0(x_sensor).squeeze()\n",
    "    y_pred_sensor = self.model(x_sensor) # vectorized\n",
    "    criterion=torch.nn.MSELoss()\n",
    "    print('LOSS', criterion(y_sensor, y_pred_sensor))\n",
    "    \n",
    "    NN = Model(1, 10, self.model.theta, kind=self.kind)\n",
    "    result_f = self.pde.f(0, x_sensor.squeeze(1), NN).detach()\n",
    "    print(result_f)\n",
    "    \n",
    "    #####"
   ]
  }
 ],
 "metadata": {
  "kernelspec": {
   "display_name": "inverse-neural-galerkin",
   "language": "python",
   "name": "python3"
  },
  "language_info": {
   "codemirror_mode": {
    "name": "ipython",
    "version": 3
   },
   "file_extension": ".py",
   "mimetype": "text/x-python",
   "name": "python",
   "nbconvert_exporter": "python",
   "pygments_lexer": "ipython3",
   "version": "3.11.4"
  },
  "orig_nbformat": 4
 },
 "nbformat": 4,
 "nbformat_minor": 2
}
